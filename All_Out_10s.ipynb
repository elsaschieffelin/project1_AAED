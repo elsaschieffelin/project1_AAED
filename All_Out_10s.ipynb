{
 "cells": [
  {
   "cell_type": "markdown",
   "metadata": {},
   "source": [
    "## All Out 10's Playlist"
   ]
  },
  {
   "cell_type": "code",
   "execution_count": 2,
   "metadata": {},
   "outputs": [],
   "source": [
    "#Dependencies\n",
    "\n",
    "import spotipy\n",
    "import spotipy.util as util\n",
    "from spotipy.oauth2 import SpotifyClientCredentials\n",
    "import spotipy.oauth2 as oauth2\n",
    "from pprint import pprint\n",
    "\n",
    "market = [\"US\"]\n",
    "\n",
    "#Obtain access from Spotify\n",
    "\n",
    "CLIENT_ID = \"05d36be6186b4810b1263274ddfa3642\"\n",
    "CLIENT_SECRET = \"8d2727466e9e43849cdad4e516148594\"\n",
    "\n",
    "credentials = oauth2.SpotifyClientCredentials(\n",
    "        client_id=CLIENT_ID,\n",
    "        client_secret=CLIENT_SECRET)\n",
    "\n",
    "token = credentials.get_access_token()\n",
    "spotify = spotipy.Spotify(auth=token)"
   ]
  },
  {
   "cell_type": "code",
   "execution_count": 3,
   "metadata": {},
   "outputs": [],
   "source": [
    "# Find playlists of the top 50 songs of each decade\n",
    "\n",
    "#playlist_top=\"United States Top 50\"\n",
    "#playlist_50=\"All Out 50s\"\n",
    "#playlist_60=\"All Out 60s\"\n",
    "#playlist_70=\"All Out 70s\"\n",
    "#playlist_80=\"All Out 80s\"\n",
    "#playlist_90=\"All Out 90s\"\n",
    "#playlist_00=\"All Out 00s\"\n",
    "playlist_10=\"All Out 10s\"\n",
    "\n",
    "song_titles_list =[]\n",
    "artist_names_list=[]\n",
    "\n",
    "sp = spotipy.Spotify(auth=token)\n",
    "results = sp.search(q=playlist_10, limit=50,type='playlist')\n",
    "\n",
    "#Loop through json results to extract lists of songs and artists\n",
    "for playlist in results['playlists']['items']:\n",
    "    results = sp.user_playlist(playlist['owner']['id'], playlist['id'], fields=\"tracks,next\")\n",
    "    tracks = results['tracks']\n",
    "    song_title= tracks['items'][0]['track']['name']\n",
    "    song_titles_list.append(song_title)\n",
    "    \n",
    "    artist_name= tracks['items'][0]['track']['album']['artists'][0]['name']\n",
    "    artist_names_list.append(artist_name)\n"
   ]
  },
  {
   "cell_type": "code",
   "execution_count": 4,
   "metadata": {},
   "outputs": [
    {
     "data": {
      "text/plain": [
       "50"
      ]
     },
     "execution_count": 4,
     "metadata": {},
     "output_type": "execute_result"
    }
   ],
   "source": [
    "#check if lists return 50 values\n",
    "len(artist_names_list)"
   ]
  },
  {
   "cell_type": "code",
   "execution_count": 5,
   "metadata": {},
   "outputs": [
    {
     "data": {
      "text/plain": [
       "{'Happier': 'Ed Sheeran',\n",
       " 'TiK ToK': 'Kesha',\n",
       " 'Rolling in the Deep': 'Adele',\n",
       " 'Impatient': 'Jeremih',\n",
       " 'Paris': 'The Chainsmokers',\n",
       " 'Halo': 'Beyoncé',\n",
       " 'If You Had My Love': 'Jennifer Lopez',\n",
       " 'Infinity 2008': 'Various Artists',\n",
       " 'Hotel California - Eagles 2013 Remaster': 'Eagles',\n",
       " 'Rockabye (feat. Sean Paul & Anne-Marie)': 'Clean Bandit',\n",
       " 'The Nights': 'Various Artists',\n",
       " 'Fireflies': 'Owl City',\n",
       " 'Unsteady': 'X Ambassadors',\n",
       " 'goosebumps': 'Travis Scott',\n",
       " 'Boyfriend': 'Justin Bieber',\n",
       " 'Whatcha Say': 'Jason Derulo',\n",
       " 'The Ocean (feat. Shy Martin)': 'Mike Perry',\n",
       " 'Dancing On My Own': 'Calum Scott',\n",
       " 'No Scrubs': 'TLC',\n",
       " 'September Song': 'JP Cooper',\n",
       " \"i hate u, i love u (feat. olivia o'brien)\": 'gnash',\n",
       " 'Demons': 'Imagine Dragons',\n",
       " 'Satisfya': 'Imran Khan',\n",
       " 'She Looks So Perfect': '5 Seconds of Summer',\n",
       " 'Need You Now': 'Lady Antebellum',\n",
       " 'Black And Yellow': 'Wiz Khalifa',\n",
       " 'All Eyes on You (feat. Chris Brown & Nicki Minaj)': 'Meek Mill',\n",
       " 'All of Me': 'John Legend',\n",
       " 'Versace On The Floor': 'Bruno Mars',\n",
       " 'Photograph': 'Ed Sheeran',\n",
       " 'Pink + White': 'Frank Ocean',\n",
       " 'Classic': 'MKTO',\n",
       " 'Stamp on the Ground - Radio Edit': 'ItaloBrothers',\n",
       " 'When I Was Your Man': 'Bruno Mars',\n",
       " 'Wildest Dreams': 'Taylor Swift',\n",
       " 'Here Without You': '3 Doors Down',\n",
       " 'Stereo Hearts (feat. Adam Levine)': 'Gym Class Heroes',\n",
       " '2002': 'Anne-Marie',\n",
       " 'Stay With Me': 'Sam Smith',\n",
       " 'Your Song - Remastered': 'Elton John',\n",
       " 'The Girls': 'Calvin Harris',\n",
       " 'Alone': 'Alan Walker',\n",
       " 'When You Love Someone': 'James TW',\n",
       " 'Let Me Love You': 'DJ Snake',\n",
       " 'Jealous - Remix': 'Nick Jonas',\n",
       " 'Love Story': 'Taylor Swift'}"
      ]
     },
     "execution_count": 5,
     "metadata": {},
     "output_type": "execute_result"
    }
   ],
   "source": [
    "#create dictionary of songs and artists\n",
    "dict_10s = {key:value for key, value in zip(song_titles_list,artist_names_list)}\n",
    "dict_10s\n"
   ]
  },
  {
   "cell_type": "code",
   "execution_count": 6,
   "metadata": {},
   "outputs": [
    {
     "data": {
      "text/plain": [
       "dict_items([('Happier', 'Ed Sheeran'), ('TiK ToK', 'Kesha'), ('Rolling in the Deep', 'Adele'), ('Impatient', 'Jeremih'), ('Paris', 'The Chainsmokers'), ('Halo', 'Beyoncé'), ('If You Had My Love', 'Jennifer Lopez'), ('Infinity 2008', 'Various Artists'), ('Hotel California - Eagles 2013 Remaster', 'Eagles'), ('Rockabye (feat. Sean Paul & Anne-Marie)', 'Clean Bandit'), ('The Nights', 'Various Artists'), ('Fireflies', 'Owl City'), ('Unsteady', 'X Ambassadors'), ('goosebumps', 'Travis Scott'), ('Boyfriend', 'Justin Bieber'), ('Whatcha Say', 'Jason Derulo'), ('The Ocean (feat. Shy Martin)', 'Mike Perry'), ('Dancing On My Own', 'Calum Scott'), ('No Scrubs', 'TLC'), ('September Song', 'JP Cooper'), (\"i hate u, i love u (feat. olivia o'brien)\", 'gnash'), ('Demons', 'Imagine Dragons'), ('Satisfya', 'Imran Khan'), ('She Looks So Perfect', '5 Seconds of Summer'), ('Need You Now', 'Lady Antebellum'), ('Black And Yellow', 'Wiz Khalifa'), ('All Eyes on You (feat. Chris Brown & Nicki Minaj)', 'Meek Mill'), ('All of Me', 'John Legend'), ('Versace On The Floor', 'Bruno Mars'), ('Photograph', 'Ed Sheeran'), ('Pink + White', 'Frank Ocean'), ('Classic', 'MKTO'), ('Stamp on the Ground - Radio Edit', 'ItaloBrothers'), ('When I Was Your Man', 'Bruno Mars'), ('Wildest Dreams', 'Taylor Swift'), ('Here Without You', '3 Doors Down'), ('Stereo Hearts (feat. Adam Levine)', 'Gym Class Heroes'), ('2002', 'Anne-Marie'), ('Stay With Me', 'Sam Smith'), ('Your Song - Remastered', 'Elton John'), ('The Girls', 'Calvin Harris'), ('Alone', 'Alan Walker'), ('When You Love Someone', 'James TW'), ('Let Me Love You', 'DJ Snake'), ('Jealous - Remix', 'Nick Jonas'), ('Love Story', 'Taylor Swift')])"
      ]
     },
     "execution_count": 6,
     "metadata": {},
     "output_type": "execute_result"
    }
   ],
   "source": [
    "#Edit dictionary to remove brackets\n",
    "dict_10s_ed = dict_10s.items()\n",
    "    \n",
    "dict_10s_ed  "
   ]
  },
  {
   "cell_type": "code",
   "execution_count": 7,
   "metadata": {},
   "outputs": [
    {
     "name": "stdout",
     "output_type": "stream",
     "text": [
      "Writing complete\n"
     ]
    }
   ],
   "source": [
    "#Save results to csv\n",
    "import csv\n",
    "\n",
    "output_data = \"decade_output/2010s.csv\"\n",
    "myFile = open(output_data, 'w')\n",
    "with myFile:\n",
    "    writer = csv.writer(myFile)\n",
    "    writer.writerows(dict_10s_ed)\n",
    "     \n",
    "print(\"Writing complete\")"
   ]
  },
  {
   "cell_type": "code",
   "execution_count": null,
   "metadata": {},
   "outputs": [],
   "source": []
  }
 ],
 "metadata": {
  "kernelspec": {
   "display_name": "Python 3",
   "language": "python",
   "name": "python3"
  },
  "language_info": {
   "codemirror_mode": {
    "name": "ipython",
    "version": 3
   },
   "file_extension": ".py",
   "mimetype": "text/x-python",
   "name": "python",
   "nbconvert_exporter": "python",
   "pygments_lexer": "ipython3",
   "version": "3.7.0"
  }
 },
 "nbformat": 4,
 "nbformat_minor": 2
}

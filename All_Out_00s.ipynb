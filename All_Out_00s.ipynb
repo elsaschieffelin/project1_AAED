{
 "cells": [
  {
   "cell_type": "markdown",
   "metadata": {},
   "source": [
    "## All Out 00's Playlist"
   ]
  },
  {
   "cell_type": "code",
   "execution_count": 1,
   "metadata": {},
   "outputs": [],
   "source": [
    "#Dependencies\n",
    "\n",
    "import spotipy\n",
    "import spotipy.util as util\n",
    "from spotipy.oauth2 import SpotifyClientCredentials\n",
    "import spotipy.oauth2 as oauth2\n",
    "from pprint import pprint\n",
    "\n",
    "market = [\"US\"]\n",
    "\n",
    "#Obtain access from Spotify\n",
    "\n",
    "CLIENT_ID = \"05d36be6186b4810b1263274ddfa3642\"\n",
    "CLIENT_SECRET = \"8d2727466e9e43849cdad4e516148594\"\n",
    "\n",
    "credentials = oauth2.SpotifyClientCredentials(\n",
    "        client_id=CLIENT_ID,\n",
    "        client_secret=CLIENT_SECRET)\n",
    "\n",
    "token = credentials.get_access_token()\n",
    "spotify = spotipy.Spotify(auth=token)"
   ]
  },
  {
   "cell_type": "code",
   "execution_count": 2,
   "metadata": {},
   "outputs": [
    {
     "name": "stdout",
     "output_type": "stream",
     "text": [
      "retrying ...1secs\n",
      "retrying ...1secs\n"
     ]
    }
   ],
   "source": [
    "# Find playlists of the top 50 songs of each decade\n",
    "\n",
    "#playlist_top=\"United States Top 50\"\n",
    "#playlist_50=\"All Out 50s\"\n",
    "#playlist_60=\"All Out 60s\"\n",
    "#playlist_70=\"All Out 70s\"\n",
    "#playlist_80=\"All Out 80s\"\n",
    "#playlist_90=\"All Out 90s\"\n",
    "playlist_00=\"All Out 00s\"\n",
    "#playlist_10=\"All Out 10s\"\n",
    "\n",
    "song_titles_list =[]\n",
    "artist_names_list=[]\n",
    "\n",
    "sp = spotipy.Spotify(auth=token)\n",
    "results = sp.search(q=playlist_00, limit=50,type='playlist')\n",
    "\n",
    "#Loop through json results to extract lists of songs and artists\n",
    "for playlist in results['playlists']['items']:\n",
    "    results = sp.user_playlist(playlist['owner']['id'], playlist['id'], fields=\"tracks,next\")\n",
    "    tracks = results['tracks']\n",
    "    song_title= tracks['items'][0]['track']['name']\n",
    "    song_titles_list.append(song_title)\n",
    "    \n",
    "    artist_name= tracks['items'][0]['track']['album']['artists'][0]['name']\n",
    "    artist_names_list.append(artist_name)\n"
   ]
  },
  {
   "cell_type": "code",
   "execution_count": 3,
   "metadata": {},
   "outputs": [
    {
     "data": {
      "text/plain": [
       "50"
      ]
     },
     "execution_count": 3,
     "metadata": {},
     "output_type": "execute_result"
    }
   ],
   "source": [
    "#check if lists return 50 values\n",
    "len(artist_names_list)"
   ]
  },
  {
   "cell_type": "code",
   "execution_count": 4,
   "metadata": {},
   "outputs": [
    {
     "data": {
      "text/plain": [
       "{\"It Wasn't Me\": 'Shaggy',\n",
       " \"Gangsta's Paradise (feat. L.V.)\": 'Coolio',\n",
       " \"Hips Don't Lie\": 'Shakira',\n",
       " 'In Da Club': '50 Cent',\n",
       " 'My Happy Ending': 'Avril Lavigne',\n",
       " 'Africa': 'Toto',\n",
       " 'Oops!...I Did It Again': 'Britney Spears',\n",
       " 'Seven Nation Army': 'The White Stripes',\n",
       " 'Weekend! (live)': 'Scooter',\n",
       " 'Where Is The Love?': 'The Black Eyed Peas',\n",
       " 'Halo': 'Beyoncé',\n",
       " 'Infinity 2008': 'Various Artists',\n",
       " \"I'm Comin'\": 'Will Smith',\n",
       " 'Let It Be - Remastered 2009': 'The Beatles',\n",
       " 'Hotel California - Eagles 2013 Remaster': 'Eagles',\n",
       " 'Killing Me Softly With His Song': 'Fugees',\n",
       " 'Miss You Love': 'Silverchair',\n",
       " 'Stronger': 'Kanye West',\n",
       " 'Toxic': 'Various Artists',\n",
       " 'Candy Shop': '50 Cent',\n",
       " 'Snow (Hey Oh)': 'Red Hot Chili Peppers',\n",
       " \"DJ Got Us Fallin' In Love (feat. Pitbull)\": 'Usher',\n",
       " 'Party In The U.S.A.': 'Miley Cyrus',\n",
       " 'Down On Me': 'Jeremih',\n",
       " 'A Whiter Shade Of Pale': 'Procol Harum',\n",
       " 'Stay': 'Lisa Loeb',\n",
       " \"Hit 'Em Up Style (Oops!) - Remix Radio Mix\": 'Blu Cantrell',\n",
       " 'Dance, Dance': 'Fall Out Boy',\n",
       " 'No Air (feat. Chris Brown)': 'Jordin Sparks',\n",
       " '7 Days': 'Craig David',\n",
       " 'Too Little, Too Late': 'JoJo',\n",
       " 'I Wanna Love You': 'Akon',\n",
       " 'The Wanderer': 'Dion & The Belmonts',\n",
       " 'Kiss Me Thru The Phone': 'Soulja Boy',\n",
       " 'Iris': 'The Goo Goo Dolls',\n",
       " 'The Scientist': 'Coldplay',\n",
       " 'Amber': '311',\n",
       " 'Diva': 'Beyoncé',\n",
       " 'Let Me Entertain You': 'Robbie Williams',\n",
       " 'Du Hast Den Schönsten Arsch Der Welt': 'Alex C.',\n",
       " 'Love On The Brain': 'Rihanna',\n",
       " 'Stereo Hearts (feat. Adam Levine)': 'Gym Class Heroes',\n",
       " 'Pop': '*NSYNC',\n",
       " 'Umbrella': 'Rihanna',\n",
       " 'Crazy In Love': 'Beyoncé',\n",
       " 'Since U Been Gone': 'Kelly Clarkson'}"
      ]
     },
     "execution_count": 4,
     "metadata": {},
     "output_type": "execute_result"
    }
   ],
   "source": [
    "#create dictionary of songs and artists\n",
    "dict_00s = {key:value for key, value in zip(song_titles_list,artist_names_list)}\n",
    "dict_00s\n"
   ]
  },
  {
   "cell_type": "code",
   "execution_count": 7,
   "metadata": {},
   "outputs": [
    {
     "data": {
      "text/plain": [
       "dict_items([(\"It Wasn't Me\", 'Shaggy'), (\"Gangsta's Paradise (feat. L.V.)\", 'Coolio'), (\"Hips Don't Lie\", 'Shakira'), ('In Da Club', '50 Cent'), ('My Happy Ending', 'Avril Lavigne'), ('Africa', 'Toto'), ('Oops!...I Did It Again', 'Britney Spears'), ('Seven Nation Army', 'The White Stripes'), ('Weekend! (live)', 'Scooter'), ('Where Is The Love?', 'The Black Eyed Peas'), ('Halo', 'Beyoncé'), ('Infinity 2008', 'Various Artists'), (\"I'm Comin'\", 'Will Smith'), ('Let It Be - Remastered 2009', 'The Beatles'), ('Hotel California - Eagles 2013 Remaster', 'Eagles'), ('Killing Me Softly With His Song', 'Fugees'), ('Miss You Love', 'Silverchair'), ('Stronger', 'Kanye West'), ('Toxic', 'Various Artists'), ('Candy Shop', '50 Cent'), ('Snow (Hey Oh)', 'Red Hot Chili Peppers'), (\"DJ Got Us Fallin' In Love (feat. Pitbull)\", 'Usher'), ('Party In The U.S.A.', 'Miley Cyrus'), ('Down On Me', 'Jeremih'), ('A Whiter Shade Of Pale', 'Procol Harum'), ('Stay', 'Lisa Loeb'), (\"Hit 'Em Up Style (Oops!) - Remix Radio Mix\", 'Blu Cantrell'), ('Dance, Dance', 'Fall Out Boy'), ('No Air (feat. Chris Brown)', 'Jordin Sparks'), ('7 Days', 'Craig David'), ('Too Little, Too Late', 'JoJo'), ('I Wanna Love You', 'Akon'), ('The Wanderer', 'Dion & The Belmonts'), ('Kiss Me Thru The Phone', 'Soulja Boy'), ('Iris', 'The Goo Goo Dolls'), ('The Scientist', 'Coldplay'), ('Amber', '311'), ('Diva', 'Beyoncé'), ('Let Me Entertain You', 'Robbie Williams'), ('Du Hast Den Schönsten Arsch Der Welt', 'Alex C.'), ('Love On The Brain', 'Rihanna'), ('Stereo Hearts (feat. Adam Levine)', 'Gym Class Heroes'), ('Pop', '*NSYNC'), ('Umbrella', 'Rihanna'), ('Crazy In Love', 'Beyoncé'), ('Since U Been Gone', 'Kelly Clarkson')])"
      ]
     },
     "execution_count": 7,
     "metadata": {},
     "output_type": "execute_result"
    }
   ],
   "source": [
    "#Edit dictionary to remove brackets\n",
    "dict_00s_ed = dict_00s.items()\n",
    "    \n",
    "dict_00s_ed  "
   ]
  },
  {
   "cell_type": "code",
   "execution_count": 8,
   "metadata": {},
   "outputs": [
    {
     "name": "stdout",
     "output_type": "stream",
     "text": [
      "Writing complete\n"
     ]
    }
   ],
   "source": [
    "#Save results to csv\n",
    "import csv\n",
    "\n",
    "output_data = \"decade_output/2000s.csv\"\n",
    "myFile = open(output_data, 'w')\n",
    "with myFile:\n",
    "    writer = csv.writer(myFile)\n",
    "    writer.writerows(dict_00s_ed)\n",
    "     \n",
    "print(\"Writing complete\")"
   ]
  }
 ],
 "metadata": {
  "kernelspec": {
   "display_name": "Python 3",
   "language": "python",
   "name": "python3"
  },
  "language_info": {
   "codemirror_mode": {
    "name": "ipython",
    "version": 3
   },
   "file_extension": ".py",
   "mimetype": "text/x-python",
   "name": "python",
   "nbconvert_exporter": "python",
   "pygments_lexer": "ipython3",
   "version": "3.7.0"
  }
 },
 "nbformat": 4,
 "nbformat_minor": 2
}

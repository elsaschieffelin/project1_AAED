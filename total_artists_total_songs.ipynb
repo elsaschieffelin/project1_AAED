{
 "cells": [
  {
   "cell_type": "code",
   "execution_count": 1,
   "metadata": {},
   "outputs": [],
   "source": [
    "import pandas as pd"
   ]
  },
  {
   "cell_type": "code",
   "execution_count": 9,
   "metadata": {},
   "outputs": [],
   "source": [
    "x=0\n",
    "df=[]\n",
    "decades = [\"1950s\", \"1960s\", \"1970s\", \"1980s\", \"1990s\", \"2000s\", \"2010s\", \"US_Top_50\"]\n",
    "for decade in decades: \n",
    "    decade = decades[x]\n",
    "    path = f\"decade_output/{decade}.csv\"\n",
    "    df.append(pd.read_csv(path))\n",
    "    x+=1"
   ]
  },
  {
   "cell_type": "code",
   "execution_count": 13,
   "metadata": {},
   "outputs": [],
   "source": [
    "df_50 = df[0]\n",
    "df_60 = df[1]\n",
    "df_70 = df[2]\n",
    "df_80 = df[3]\n",
    "df_90 = df[4]\n",
    "df_00 = df[5]\n",
    "df_10 = df[6]\n",
    "df_Top = df[7]"
   ]
  },
  {
   "cell_type": "code",
   "execution_count": 26,
   "metadata": {},
   "outputs": [],
   "source": [
    "artist_50 = df_50[\"artist_name\"]"
   ]
  },
  {
   "cell_type": "code",
   "execution_count": null,
   "metadata": {},
   "outputs": [],
   "source": []
  }
 ],
 "metadata": {
  "kernelspec": {
   "display_name": "Python 3",
   "language": "python",
   "name": "python3"
  },
  "language_info": {
   "codemirror_mode": {
    "name": "ipython",
    "version": 3
   },
   "file_extension": ".py",
   "mimetype": "text/x-python",
   "name": "python",
   "nbconvert_exporter": "python",
   "pygments_lexer": "ipython3",
   "version": "3.7.1"
  }
 },
 "nbformat": 4,
 "nbformat_minor": 2
}

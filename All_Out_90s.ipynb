{
 "cells": [
  {
   "cell_type": "markdown",
   "metadata": {},
   "source": [
    "## All Out 90's Playlist"
   ]
  },
  {
   "cell_type": "code",
   "execution_count": 1,
   "metadata": {},
   "outputs": [],
   "source": [
    "#Dependencies\n",
    "\n",
    "import spotipy\n",
    "import spotipy.util as util\n",
    "from spotipy.oauth2 import SpotifyClientCredentials\n",
    "import spotipy.oauth2 as oauth2\n",
    "from pprint import pprint\n",
    "\n",
    "market = [\"US\"]\n",
    "\n",
    "#Obtain access from Spotify\n",
    "\n",
    "CLIENT_ID = \"05d36be6186b4810b1263274ddfa3642\"\n",
    "CLIENT_SECRET = \"8d2727466e9e43849cdad4e516148594\"\n",
    "\n",
    "credentials = oauth2.SpotifyClientCredentials(\n",
    "        client_id=CLIENT_ID,\n",
    "        client_secret=CLIENT_SECRET)\n",
    "\n",
    "token = credentials.get_access_token()\n",
    "spotify = spotipy.Spotify(auth=token)"
   ]
  },
  {
   "cell_type": "code",
   "execution_count": 2,
   "metadata": {},
   "outputs": [],
   "source": [
    "# Find playlists of the top 50 songs of each decade\n",
    "\n",
    "#playlist_top=\"United States Top 50\"\n",
    "#playlist_50=\"All Out 50s\"\n",
    "#playlist_60=\"All Out 60s\"\n",
    "#playlist_70=\"All Out 70s\"\n",
    "#playlist_80=\"All Out 80s\"\n",
    "playlist_90=\"All Out 90s\"\n",
    "#playlist_00=\"All Out 00s\"\n",
    "#playlist_10=\"All Out 10s\"\n",
    "\n",
    "song_titles_list =[]\n",
    "artist_names_list=[]\n",
    "\n",
    "sp = spotipy.Spotify(auth=token)\n",
    "results = sp.search(q=playlist_90, limit=50,type='playlist')\n",
    "\n",
    "#Loop through json results to extract lists of songs and artists\n",
    "for playlist in results['playlists']['items']:\n",
    "    results = sp.user_playlist(playlist['owner']['id'], playlist['id'], fields=\"tracks,next\")\n",
    "    tracks = results['tracks']\n",
    "    song_title= tracks['items'][0]['track']['name']\n",
    "    song_titles_list.append(song_title)\n",
    "    \n",
    "    artist_name= tracks['items'][0]['track']['album']['artists'][0]['name']\n",
    "    artist_names_list.append(artist_name)\n"
   ]
  },
  {
   "cell_type": "code",
   "execution_count": 3,
   "metadata": {},
   "outputs": [
    {
     "data": {
      "text/plain": [
       "50"
      ]
     },
     "execution_count": 3,
     "metadata": {},
     "output_type": "execute_result"
    }
   ],
   "source": [
    "#check if lists return 50 values\n",
    "len(artist_names_list)"
   ]
  },
  {
   "cell_type": "code",
   "execution_count": 4,
   "metadata": {},
   "outputs": [
    {
     "data": {
      "text/plain": [
       "{'I Want It That Way': 'Backstreet Boys',\n",
       " \"Gangsta's Paradise (feat. L.V.)\": 'Coolio',\n",
       " \"Hips Don't Lie\": 'Shakira',\n",
       " 'September': 'Earth, Wind & Fire',\n",
       " 'In Da Club': '50 Cent',\n",
       " 'Fastlove, Pt. 1': 'George Michael',\n",
       " 'My Happy Ending': 'Avril Lavigne',\n",
       " 'Africa': 'Toto',\n",
       " 'Rhythm Is A Dancer - 7\" Edit': 'SNAP!',\n",
       " 'Alive': 'Pearl Jam',\n",
       " 'Hotel California - Eagles 2013 Remaster': 'Eagles',\n",
       " '1979': 'The Smashing Pumpkins',\n",
       " 'Vogue': 'Madonna',\n",
       " 'Pray for Me (feat. Apakalips)': 'Chop Lui',\n",
       " 'Take on Me': 'a-ha',\n",
       " 'Angel of Mine - Radio Mix': 'Monica',\n",
       " 'Reverend Black Grape': 'Black Grape',\n",
       " 'Where Is The Love?': 'The Black Eyed Peas',\n",
       " 'Here Comes the War': 'Various Artists',\n",
       " 'Waterfront': 'Various Artists',\n",
       " 'Standing Outside a Broken Phone Booth with Money in My Hand': 'Primitive Radio Gods',\n",
       " 'Bye Bye Bye': '*NSYNC',\n",
       " 'Killing Me Softly With His Song': 'Fugees',\n",
       " 'S.B.G': 'Young Niss',\n",
       " '...Baby One More Time': 'Britney Spears',\n",
       " 'Maniac': 'Various Artists',\n",
       " \"I'm So Into You\": 'SWV',\n",
       " 'A Whiter Shade Of Pale': 'Procol Harum',\n",
       " 'Stay': 'Lisa Loeb',\n",
       " \"It Wasn't Me\": 'Shaggy',\n",
       " 'All Around the World - Remastered': 'Lisa Stansfield',\n",
       " \"I'll Be Missing You (feat. 112)\": 'Various Artists',\n",
       " 'Walk Of Life': 'Dire Straits',\n",
       " 'Only You': 'Various Artists',\n",
       " 'Hey, Johnny Park!': 'Foo Fighters',\n",
       " \"Rhythm Is A Dancer - 12'' Version\": 'SNAP!',\n",
       " '9 Little Millimeta Boys': '8Ball & MJG',\n",
       " 'Here Comes The Sun - Remastered 2009': 'The Beatles',\n",
       " 'Man! I Feel Like A Woman!': 'Shania Twain',\n",
       " 'Zombie': 'The Cranberries',\n",
       " 'We like to Party! (The Vengabus)': 'Vengaboys',\n",
       " 'Let Me Entertain You': 'Robbie Williams',\n",
       " 'Sweet Dreams (Are Made of This) - Remastered': 'Eurythmics',\n",
       " 'Pop': '*NSYNC',\n",
       " \"My Boo - Hitman's Club Mix\": 'Ghost Town DJs'}"
      ]
     },
     "execution_count": 4,
     "metadata": {},
     "output_type": "execute_result"
    }
   ],
   "source": [
    "#create dictionary of songs and artists\n",
    "dict_90s = {key:value for key, value in zip(song_titles_list,artist_names_list)}\n",
    "dict_90s\n"
   ]
  },
  {
   "cell_type": "code",
   "execution_count": 5,
   "metadata": {},
   "outputs": [
    {
     "data": {
      "text/plain": [
       "dict_items([('I Want It That Way', 'Backstreet Boys'), (\"Gangsta's Paradise (feat. L.V.)\", 'Coolio'), (\"Hips Don't Lie\", 'Shakira'), ('September', 'Earth, Wind & Fire'), ('In Da Club', '50 Cent'), ('Fastlove, Pt. 1', 'George Michael'), ('My Happy Ending', 'Avril Lavigne'), ('Africa', 'Toto'), ('Rhythm Is A Dancer - 7\" Edit', 'SNAP!'), ('Alive', 'Pearl Jam'), ('Hotel California - Eagles 2013 Remaster', 'Eagles'), ('1979', 'The Smashing Pumpkins'), ('Vogue', 'Madonna'), ('Pray for Me (feat. Apakalips)', 'Chop Lui'), ('Take on Me', 'a-ha'), ('Angel of Mine - Radio Mix', 'Monica'), ('Reverend Black Grape', 'Black Grape'), ('Where Is The Love?', 'The Black Eyed Peas'), ('Here Comes the War', 'Various Artists'), ('Waterfront', 'Various Artists'), ('Standing Outside a Broken Phone Booth with Money in My Hand', 'Primitive Radio Gods'), ('Bye Bye Bye', '*NSYNC'), ('Killing Me Softly With His Song', 'Fugees'), ('S.B.G', 'Young Niss'), ('...Baby One More Time', 'Britney Spears'), ('Maniac', 'Various Artists'), (\"I'm So Into You\", 'SWV'), ('A Whiter Shade Of Pale', 'Procol Harum'), ('Stay', 'Lisa Loeb'), (\"It Wasn't Me\", 'Shaggy'), ('All Around the World - Remastered', 'Lisa Stansfield'), (\"I'll Be Missing You (feat. 112)\", 'Various Artists'), ('Walk Of Life', 'Dire Straits'), ('Only You', 'Various Artists'), ('Hey, Johnny Park!', 'Foo Fighters'), (\"Rhythm Is A Dancer - 12'' Version\", 'SNAP!'), ('9 Little Millimeta Boys', '8Ball & MJG'), ('Here Comes The Sun - Remastered 2009', 'The Beatles'), ('Man! I Feel Like A Woman!', 'Shania Twain'), ('Zombie', 'The Cranberries'), ('We like to Party! (The Vengabus)', 'Vengaboys'), ('Let Me Entertain You', 'Robbie Williams'), ('Sweet Dreams (Are Made of This) - Remastered', 'Eurythmics'), ('Pop', '*NSYNC'), (\"My Boo - Hitman's Club Mix\", 'Ghost Town DJs')])"
      ]
     },
     "execution_count": 5,
     "metadata": {},
     "output_type": "execute_result"
    }
   ],
   "source": [
    "#Edit dictionary to remove brackets\n",
    "dict_90s_ed = dict_90s.items()\n",
    "    \n",
    "dict_90s_ed  "
   ]
  },
  {
   "cell_type": "code",
   "execution_count": 7,
   "metadata": {},
   "outputs": [
    {
     "name": "stdout",
     "output_type": "stream",
     "text": [
      "Writing complete\n"
     ]
    }
   ],
   "source": [
    "#Save results to csv\n",
    "import csv\n",
    "\n",
    "output_data = \"decade_output/1990s.csv\"\n",
    "myFile = open(output_data, 'w')\n",
    "with myFile:\n",
    "    writer = csv.writer(myFile)\n",
    "    writer.writerows(dict_90s_ed)\n",
    "     \n",
    "print(\"Writing complete\")"
   ]
  }
 ],
 "metadata": {
  "kernelspec": {
   "display_name": "Python 3",
   "language": "python",
   "name": "python3"
  },
  "language_info": {
   "codemirror_mode": {
    "name": "ipython",
    "version": 3
   },
   "file_extension": ".py",
   "mimetype": "text/x-python",
   "name": "python",
   "nbconvert_exporter": "python",
   "pygments_lexer": "ipython3",
   "version": "3.7.0"
  }
 },
 "nbformat": 4,
 "nbformat_minor": 2
}

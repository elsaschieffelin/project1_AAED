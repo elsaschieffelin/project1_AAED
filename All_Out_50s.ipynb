{
 "cells": [
  {
   "cell_type": "code",
   "execution_count": 1,
   "metadata": {},
   "outputs": [],
   "source": [
    "import pandas as pd\n",
    "import requests\n",
    "import json\n",
    "from pprint import pprint\n",
    "import spotipy\n",
    "import spotipy.util as util\n",
    "from spotipy.oauth2 import SpotifyClientCredentials\n",
    "import spotipy.oauth2 as oauth2\n",
    "from config import spotify_elsa_id\n",
    "from config import spotify_elsa_secret"
   ]
  },
  {
   "cell_type": "code",
   "execution_count": 2,
   "metadata": {},
   "outputs": [],
   "source": [
    "market = [\"US\"]\n",
    "\n",
    "client_id = spotify_elsa_id\n",
    "secret_id = spotify_elsa_secret\n",
    "\n",
    "credentials = oauth2.SpotifyClientCredentials(\n",
    "       client_id=client_id,\n",
    "       client_secret=secret_id)"
   ]
  },
  {
   "cell_type": "code",
   "execution_count": 3,
   "metadata": {},
   "outputs": [],
   "source": [
    "token = credentials.get_access_token()\n",
    "spotify = spotipy.Spotify(auth=token)"
   ]
  },
  {
   "cell_type": "code",
   "execution_count": 4,
   "metadata": {},
   "outputs": [
    {
     "name": "stdout",
     "output_type": "stream",
     "text": [
      "{'tracks': {'href': 'https://api.spotify.com/v1/search?query=September&type=track&market=US&offset=0&limit=1',\n",
      "            'items': [{'album': {'album_type': 'compilation',\n",
      "                                 'artists': [{'external_urls': {'spotify': 'https://open.spotify.com/artist/4QQgXkCYTt3BlENzhyNETg'},\n",
      "                                              'href': 'https://api.spotify.com/v1/artists/4QQgXkCYTt3BlENzhyNETg',\n",
      "                                              'id': '4QQgXkCYTt3BlENzhyNETg',\n",
      "                                              'name': 'Earth, Wind & Fire',\n",
      "                                              'type': 'artist',\n",
      "                                              'uri': 'spotify:artist:4QQgXkCYTt3BlENzhyNETg'}],\n",
      "                                 'external_urls': {'spotify': 'https://open.spotify.com/album/6UixeNUSjrBnxeYV0ZuGHR'},\n",
      "                                 'href': 'https://api.spotify.com/v1/albums/6UixeNUSjrBnxeYV0ZuGHR',\n",
      "                                 'id': '6UixeNUSjrBnxeYV0ZuGHR',\n",
      "                                 'images': [{'height': 640,\n",
      "                                             'url': 'https://i.scdn.co/image/b7bd8553e9d96e3b924b7d58eb9609f3b52939c7',\n",
      "                                             'width': 640},\n",
      "                                            {'height': 300,\n",
      "                                             'url': 'https://i.scdn.co/image/cdedaa18aaa2824759ae67bf1ed2e9197b9b7538',\n",
      "                                             'width': 300},\n",
      "                                            {'height': 64,\n",
      "                                             'url': 'https://i.scdn.co/image/ac389cffa601731f10f738d38f604523ba19a225',\n",
      "                                             'width': 64}],\n",
      "                                 'name': 'The Eternal Dance',\n",
      "                                 'release_date': '1992-09-08',\n",
      "                                 'release_date_precision': 'day',\n",
      "                                 'total_tracks': 55,\n",
      "                                 'type': 'album',\n",
      "                                 'uri': 'spotify:album:6UixeNUSjrBnxeYV0ZuGHR'},\n",
      "                       'artists': [{'external_urls': {'spotify': 'https://open.spotify.com/artist/4QQgXkCYTt3BlENzhyNETg'},\n",
      "                                    'href': 'https://api.spotify.com/v1/artists/4QQgXkCYTt3BlENzhyNETg',\n",
      "                                    'id': '4QQgXkCYTt3BlENzhyNETg',\n",
      "                                    'name': 'Earth, Wind & Fire',\n",
      "                                    'type': 'artist',\n",
      "                                    'uri': 'spotify:artist:4QQgXkCYTt3BlENzhyNETg'}],\n",
      "                       'disc_number': 3,\n",
      "                       'duration_ms': 214826,\n",
      "                       'explicit': False,\n",
      "                       'external_ids': {'isrc': 'USSM17800253'},\n",
      "                       'external_urls': {'spotify': 'https://open.spotify.com/track/5nNmj1cLH3r4aA4XDJ2bgY'},\n",
      "                       'href': 'https://api.spotify.com/v1/tracks/5nNmj1cLH3r4aA4XDJ2bgY',\n",
      "                       'id': '5nNmj1cLH3r4aA4XDJ2bgY',\n",
      "                       'is_local': False,\n",
      "                       'is_playable': True,\n",
      "                       'name': 'September',\n",
      "                       'popularity': 80,\n",
      "                       'preview_url': 'https://p.scdn.co/mp3-preview/5fce831e28eb2ae69f1c44e340c2368c228e0764?cid=13764705a49f421bb41a6c08dfe02566',\n",
      "                       'track_number': 1,\n",
      "                       'type': 'track',\n",
      "                       'uri': 'spotify:track:5nNmj1cLH3r4aA4XDJ2bgY'}],\n",
      "            'limit': 1,\n",
      "            'next': 'https://api.spotify.com/v1/search?query=September&type=track&market=US&offset=1&limit=1',\n",
      "            'offset': 0,\n",
      "            'previous': None,\n",
      "            'total': 27917}}\n"
     ]
    }
   ],
   "source": [
    "track = \"September\"\n",
    "res = spotify.search(track, type = \"track\", market = market, limit=1)\n",
    "pprint(res)"
   ]
  },
  {
   "cell_type": "code",
   "execution_count": 4,
   "metadata": {},
   "outputs": [
    {
     "name": "stdout",
     "output_type": "stream",
     "text": [
      "'Ben E. King'\n"
     ]
    }
   ],
   "source": [
    "query=\"All Out 50s\"\n",
    "results = spotify.search(q=query, limit=1, type='playlist')\n",
    "\n",
    "for playlist in results['playlists']['items']:\n",
    "    results=spotify.user_playlist(playlist['owner']['id'], playlist['id'], fields=\"tracks,next\")\n",
    "    tracks = results['tracks']\n",
    "#pprint(tracks)\n",
    "\n",
    "track=tracks[\"items\"][0][\"track\"]\n",
    "artist =track[\"artists\"][0][\"name\"]\n",
    "pprint(artist)"
   ]
  },
  {
   "cell_type": "code",
   "execution_count": 5,
   "metadata": {},
   "outputs": [
    {
     "data": {
      "text/plain": [
       "'Stand By Me'"
      ]
     },
     "execution_count": 5,
     "metadata": {},
     "output_type": "execute_result"
    }
   ],
   "source": [
    "song=track[\"name\"]\n",
    "song"
   ]
  },
  {
   "cell_type": "code",
   "execution_count": 6,
   "metadata": {},
   "outputs": [
    {
     "data": {
      "text/plain": [
       "'3plJVWt88EqjvtuB4ZDRV3'"
      ]
     },
     "execution_count": 6,
     "metadata": {},
     "output_type": "execute_result"
    }
   ],
   "source": [
    "ida=track['album']['artists'][0]['id']\n",
    "ida"
   ]
  },
  {
   "cell_type": "code",
   "execution_count": 7,
   "metadata": {},
   "outputs": [],
   "source": [
    "artist_name=[]\n",
    "song_title=[]\n",
    "ids=[]\n",
    "playlist=\"All Out 50s\"\n",
    "    "
   ]
  },
  {
   "cell_type": "code",
   "execution_count": 8,
   "metadata": {},
   "outputs": [],
   "source": [
    "x=0\n",
    "\n",
    "query=\"All Out 50s\"\n",
    "results = spotify.search(q=query, limit = 50, type='playlist')\n",
    "for playlist in results['playlists']['items']:\n",
    "    results=spotify.user_playlist(playlist['owner']['id'], playlist['id'], fields=\"tracks,next\")\n",
    "    tracks = results['tracks']\n",
    "    track=tracks[\"items\"][0][\"track\"]\n",
    "    artist =track[\"artists\"][0][\"name\"]\n",
    "    song=track[\"name\"]\n",
    "    song_id=tracks['items'][0]['track']['album']['artists'][0]['id']\n",
    "    if song_id not in ids:\n",
    "        artist_name.append(artist)\n",
    "        song_title.append(song)\n",
    "        ids.append(song_id)\n",
    "    "
   ]
  },
  {
   "cell_type": "code",
   "execution_count": 9,
   "metadata": {},
   "outputs": [
    {
     "name": "stdout",
     "output_type": "stream",
     "text": [
      "['Ben E. King', 'Marvin Gaye', 'The Turtles', 'The Imperials', 'Dion', 'Jerry Vale', 'Earth, Wind & Fire', 'Cliff Richard', 'Oasis', 'Frank Sinatra', 'Bobby Womack', 'The Baseballs', 'Chuck Berry', 'Peter Sarstedt', 'Brian Hyland', 'Elvis Presley', 'Jackie Wilson', 'Steppenwolf', 'Ritchie Valens', 'ABBA', 'The Righteous Brothers', 'Fats Domino', 'Marty Wilde', 'Natalie Cole', 'Dion', 'Chet Baker', 'Drake', 'Roy Orbison', 'Bryan Adams', 'Van Morrison', 'The Ink Spots', 'Chris Montez', 'The Beatles', 'Ricky Nelson', 'Van Halen', 'The Drifters']\n"
     ]
    }
   ],
   "source": [
    "len(artist_name)\n",
    "print(artist_name)"
   ]
  },
  {
   "cell_type": "code",
   "execution_count": 10,
   "metadata": {},
   "outputs": [
    {
     "data": {
      "text/plain": [
       "36"
      ]
     },
     "execution_count": 10,
     "metadata": {},
     "output_type": "execute_result"
    }
   ],
   "source": [
    "len(song_title)"
   ]
  },
  {
   "cell_type": "code",
   "execution_count": 11,
   "metadata": {},
   "outputs": [],
   "source": [
    "tracks=list(zip(song_title, artist_name, song_id))"
   ]
  },
  {
   "cell_type": "code",
   "execution_count": 14,
   "metadata": {},
   "outputs": [],
   "source": [
    "x=0\n",
    "tracks_50s=[]\n",
    "for item in tracks: \n",
    "    artist=artist_name[x]\n",
    "    song=song_title[x]\n",
    "    ID = ids[x]\n",
    "    mydict=[{\"song_title\":song, \"artist_name\":artist, \"song_id\": ID}]\n",
    "    tracks_50s.append(mydict)\n",
    "    x+=1"
   ]
  },
  {
   "cell_type": "code",
   "execution_count": 15,
   "metadata": {},
   "outputs": [
    {
     "data": {
      "text/plain": [
       "[[{'song_title': 'Stand By Me',\n",
       "   'artist_name': 'Ben E. King',\n",
       "   'song_id': '3plJVWt88EqjvtuB4ZDRV3'}],\n",
       " [{'song_title': \"Ain't No Mountain High Enough\",\n",
       "   'artist_name': 'Marvin Gaye',\n",
       "   'song_id': '3koiLjNrgRTNbOwViDipeA'}],\n",
       " [{'song_title': 'Happy Together',\n",
       "   'artist_name': 'The Turtles',\n",
       "   'song_id': '2VIoWte1HPDbZ2WqHd2La7'}],\n",
       " [{'song_title': 'Tears On My Pillow',\n",
       "   'artist_name': 'The Imperials',\n",
       "   'song_id': '0LyfQWJT6nXafLPZqxe9Of'}],\n",
       " [{'song_title': 'The Wanderer',\n",
       "   'artist_name': 'Dion',\n",
       "   'song_id': '2loYllWFfoWpoxC5YrJKc4'}],\n",
       " [{'song_title': 'Mala Femmina',\n",
       "   'artist_name': 'Jerry Vale',\n",
       "   'song_id': '5MaJrqhwysKwbvDePyAS6l'}],\n",
       " [{'song_title': 'September',\n",
       "   'artist_name': 'Earth, Wind & Fire',\n",
       "   'song_id': '4QQgXkCYTt3BlENzhyNETg'}],\n",
       " [{'song_title': 'Devil Woman - 2001 Remaster',\n",
       "   'artist_name': 'Cliff Richard',\n",
       "   'song_id': '2nvKpWcP8etYTq4JrRiUiy'}],\n",
       " [{'song_title': 'Wonderwall',\n",
       "   'artist_name': 'Oasis',\n",
       "   'song_id': '2DaxqgrOhkeH0fpeiQq2f4'}],\n",
       " [{'song_title': 'Five Minutes More',\n",
       "   'artist_name': 'Frank Sinatra',\n",
       "   'song_id': '1Mxqyy3pSjf8kZZL4QVxS0'}],\n",
       " [{'song_title': 'Across 110th Street',\n",
       "   'artist_name': 'Bobby Womack',\n",
       "   'song_id': '0vqkz1b2qBkoYrGMj2CUWq'}],\n",
       " [{'song_title': 'Umbrella',\n",
       "   'artist_name': 'The Baseballs',\n",
       "   'song_id': '3Ek1EdkcbRFvSDJj9j5JXQ'}],\n",
       " [{'song_title': 'Johnny B. Goode',\n",
       "   'artist_name': 'Chuck Berry',\n",
       "   'song_id': '293zczrfYafIItmnmM3coR'}],\n",
       " [{'song_title': 'Where Do You Go To (My Lovely)',\n",
       "   'artist_name': 'Peter Sarstedt',\n",
       "   'song_id': '3ExGDjEKejMhyciAgxPe0B'}],\n",
       " [{'song_title': 'Sealed With A Kiss',\n",
       "   'artist_name': 'Brian Hyland',\n",
       "   'song_id': '6YROFUbu5zRCHi2xkir5pk'}],\n",
       " [{'song_title': 'Jailhouse Rock',\n",
       "   'artist_name': 'Elvis Presley',\n",
       "   'song_id': '43ZHCT0cAZBISjO8DG9PnE'}],\n",
       " [{'song_title': '(Your Love Keeps Lifting Me) Higher & Higher',\n",
       "   'artist_name': 'Jackie Wilson',\n",
       "   'song_id': '4VnomLtKTm9Ahe1tZfmZju'}],\n",
       " [{'song_title': 'Born To Be Wild',\n",
       "   'artist_name': 'Steppenwolf',\n",
       "   'song_id': '1WRM9i067hd2ujxxi8FI3m'}],\n",
       " [{'song_title': 'We Belong Together',\n",
       "   'artist_name': 'Ritchie Valens',\n",
       "   'song_id': '5Y9xEAGW4GwGJgbiI6W85P'}],\n",
       " [{'song_title': 'The Winner Takes It All',\n",
       "   'artist_name': 'ABBA',\n",
       "   'song_id': '0LcJLqbBmaGUft1e9Mm8HV'}],\n",
       " [{'song_title': 'Unchained Melody',\n",
       "   'artist_name': 'The Righteous Brothers',\n",
       "   'song_id': '4b0WsB47XCa9F83BmwQ7WX'}],\n",
       " [{'song_title': \"I'm Walkin'\",\n",
       "   'artist_name': 'Fats Domino',\n",
       "   'song_id': '09C0xjtosNAIXP36wTnWxd'}]]"
      ]
     },
     "execution_count": 15,
     "metadata": {},
     "output_type": "execute_result"
    }
   ],
   "source": [
    "tracks_50s"
   ]
  },
  {
   "cell_type": "markdown",
   "metadata": {},
   "source": [
    "EXPORT DATA"
   ]
  },
  {
   "cell_type": "code",
   "execution_count": 16,
   "metadata": {},
   "outputs": [],
   "source": [
    "output_data = \"decade_output/1950s.txt\""
   ]
  },
  {
   "cell_type": "code",
   "execution_count": 17,
   "metadata": {},
   "outputs": [],
   "source": [
    "with open (output_data,'w') as file: \n",
    "       file.write(str(tracks_50s))"
   ]
  },
  {
   "cell_type": "code",
   "execution_count": null,
   "metadata": {},
   "outputs": [],
   "source": []
  }
 ],
 "metadata": {
  "kernelspec": {
   "display_name": "Python 3",
   "language": "python",
   "name": "python3"
  },
  "language_info": {
   "codemirror_mode": {
    "name": "ipython",
    "version": 3
   },
   "file_extension": ".py",
   "mimetype": "text/x-python",
   "name": "python",
   "nbconvert_exporter": "python",
   "pygments_lexer": "ipython3",
   "version": "3.7.1"
  }
 },
 "nbformat": 4,
 "nbformat_minor": 2
}

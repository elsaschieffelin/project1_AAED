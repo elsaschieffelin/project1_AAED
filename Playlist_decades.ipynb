{
 "cells": [
  {
   "cell_type": "code",
   "execution_count": 4,
   "metadata": {},
   "outputs": [
    {
     "ename": "ModuleNotFoundError",
     "evalue": "No module named 'config'",
     "output_type": "error",
     "traceback": [
      "\u001b[0;31m---------------------------------------------------------------------------\u001b[0m",
      "\u001b[0;31mModuleNotFoundError\u001b[0m                       Traceback (most recent call last)",
      "\u001b[0;32m<ipython-input-4-0fd034aab43e>\u001b[0m in \u001b[0;36m<module>\u001b[0;34m\u001b[0m\n\u001b[1;32m      7\u001b[0m \u001b[0;32mfrom\u001b[0m \u001b[0mspotipy\u001b[0m\u001b[0;34m.\u001b[0m\u001b[0moauth2\u001b[0m \u001b[0;32mimport\u001b[0m \u001b[0mSpotifyClientCredentials\u001b[0m\u001b[0;34m\u001b[0m\u001b[0;34m\u001b[0m\u001b[0m\n\u001b[1;32m      8\u001b[0m \u001b[0;32mimport\u001b[0m \u001b[0mspotipy\u001b[0m\u001b[0;34m.\u001b[0m\u001b[0moauth2\u001b[0m \u001b[0;32mas\u001b[0m \u001b[0moauth2\u001b[0m\u001b[0;34m\u001b[0m\u001b[0;34m\u001b[0m\u001b[0m\n\u001b[0;32m----> 9\u001b[0;31m \u001b[0;32mfrom\u001b[0m \u001b[0mconfig\u001b[0m\u001b[0;34m.\u001b[0m\u001b[0mpy\u001b[0m \u001b[0;32mimport\u001b[0m \u001b[0mspotify_elsa_id\u001b[0m\u001b[0;34m\u001b[0m\u001b[0;34m\u001b[0m\u001b[0m\n\u001b[0m\u001b[1;32m     10\u001b[0m \u001b[0;32mfrom\u001b[0m \u001b[0mconfig\u001b[0m\u001b[0;34m.\u001b[0m\u001b[0mpy\u001b[0m \u001b[0;32mimport\u001b[0m \u001b[0mspotify_elsa_secret\u001b[0m\u001b[0;34m\u001b[0m\u001b[0;34m\u001b[0m\u001b[0m\n",
      "\u001b[0;31mModuleNotFoundError\u001b[0m: No module named 'config'"
     ]
    }
   ],
   "source": [
    "import pandas as pd\n",
    "import requests\n",
    "import json\n",
    "from pprint import pprint\n",
    "import spotipy\n",
    "import spotipy.util as util\n",
    "from spotipy.oauth2 import SpotifyClientCredentials\n",
    "import spotipy.oauth2 as oauth2\n",
    "from config.py import spotify_elsa_id\n",
    "from config.py import spotify_elsa_secret"
   ]
  },
  {
   "cell_type": "code",
   "execution_count": null,
   "metadata": {},
   "outputs": [],
   "source": [
    "market = [\"US\"]\n",
    "client_id = spotify_elsa_id\n",
    "secret_id = spotify_elsa_secret\n",
    "\n",
    "credentials = oauth2.SpotifyClientCredentials(\n",
    "       client_id=client_id,\n",
    "       client_secret=secret_id)\n",
    "\n"
   ]
  },
  {
   "cell_type": "code",
   "execution_count": null,
   "metadata": {},
   "outputs": [],
   "source": [
    "token = credentials.get_access_token()\n",
    "spotify = spotipy.Spotify(auth=token)\n",
    "sp = spotipy.Spotify(auth=token)"
   ]
  },
  {
   "cell_type": "markdown",
   "metadata": {},
   "source": [
    "# 1950s"
   ]
  },
  {
   "cell_type": "code",
   "execution_count": 27,
   "metadata": {},
   "outputs": [],
   "source": [
    "playlist=\"All Out 50s\"\n",
    "offset_value=0\n",
    "artist_name=[]\n",
    "song_title=[]\n",
    "ids = []"
   ]
  },
  {
   "cell_type": "code",
   "execution_count": 28,
   "metadata": {},
   "outputs": [
    {
     "name": "stdout",
     "output_type": "stream",
     "text": [
      "You've saved 70 songs in All Out 50s Playlist\n"
     ]
    }
   ],
   "source": [
    "def call_playlists (offset_value):\n",
    "    playlists=spotify.user_playlist_tracks(user=\"spotify\",playlist_id=\"37i9dQZF1DWSV3Tk4GO2fq\", offset=offset_value, limit=None)\n",
    "    return playlists\n",
    "\n",
    "playlist_len = 75\n",
    "\n",
    "x=0\n",
    "    \n",
    "try:\n",
    "    while len(artist_name) <= playlist_len:\n",
    "        offset_value=0\n",
    "        playlists=call_playlists(offset_value)\n",
    "        artist=playlists[\"items\"][x]['track']['artists'][0]['name']\n",
    "        song=playlists[\"items\"][x]['track']['album']['name']\n",
    "        song_id=playlists[\"items\"][x][\"track\"][\"album\"][\"id\"]\n",
    "        if song_id not in ids:\n",
    "            artist_name.append(artist)\n",
    "            song_title.append(song)\n",
    "            ids.append(song_id)\n",
    "        x+=1\n",
    "        offset_value+=7\n",
    "        call_playlists(offset_value)\n",
    "except IndexError:\n",
    "    print(f\"You've saved {len(artist_name)} songs in {playlist} Playlist\")\n"
   ]
  },
  {
   "cell_type": "code",
   "execution_count": 29,
   "metadata": {},
   "outputs": [
    {
     "name": "stdout",
     "output_type": "stream",
     "text": [
      "70\n",
      "70\n",
      "70\n"
     ]
    }
   ],
   "source": [
    "print(len(artist_name))\n",
    "print(len(song_title))\n",
    "print(len(ids))"
   ]
  },
  {
   "cell_type": "code",
   "execution_count": 44,
   "metadata": {},
   "outputs": [],
   "source": [
    "df = pd.DataFrame({\"song_title\":song_title, \"artist_name\": artist_name, \"ids\": ids})"
   ]
  },
  {
   "cell_type": "markdown",
   "metadata": {},
   "source": [
    "EXPORT DATA"
   ]
  },
  {
   "cell_type": "code",
   "execution_count": 47,
   "metadata": {},
   "outputs": [],
   "source": [
    "output_data = \"decade_output/1950s.csv\""
   ]
  },
  {
   "cell_type": "code",
   "execution_count": 48,
   "metadata": {},
   "outputs": [],
   "source": [
    "df.to_csv(output_data)"
   ]
  },
  {
   "cell_type": "markdown",
   "metadata": {},
   "source": [
    "# 1960s"
   ]
  },
  {
   "cell_type": "code",
   "execution_count": 53,
   "metadata": {},
   "outputs": [],
   "source": [
    "playlist=\"All Out 60s\"\n",
    "playlist_id= \"37i9dQZF1DXaKIA8E7WcJj\"\n",
    "user= \"spotify\"\n",
    "playlist_len=97\n",
    "offset_value=0\n",
    "artist_name=[]\n",
    "song_title=[]\n",
    "ids = []"
   ]
  },
  {
   "cell_type": "code",
   "execution_count": 52,
   "metadata": {},
   "outputs": [
    {
     "name": "stdout",
     "output_type": "stream",
     "text": [
      "You've saved 91 songs in All Out 60s Playlist\n"
     ]
    }
   ],
   "source": [
    "def call_playlists (offset_value):\n",
    "    playlists=spotify.user_playlist_tracks(user=user,playlist_id=playlist_id, offset=offset_value, limit=None)\n",
    "    return playlists\n",
    "\n",
    "playlist_len = playlist_len\n",
    "\n",
    "x=0\n",
    "    \n",
    "try:\n",
    "    while len(artist_name) <= playlist_len:\n",
    "        offset_value=0\n",
    "        playlists=call_playlists(offset_value)\n",
    "        artist=playlists[\"items\"][x]['track']['artists'][0]['name']\n",
    "        song=playlists[\"items\"][x]['track']['album']['name']\n",
    "        song_id=playlists[\"items\"][x][\"track\"][\"album\"][\"id\"]\n",
    "        if song_id not in ids:\n",
    "            artist_name.append(artist)\n",
    "            song_title.append(song)\n",
    "            ids.append(song_id)\n",
    "        x+=1\n",
    "        offset_value+=7\n",
    "        call_playlists(offset_value)\n",
    "except IndexError:\n",
    "    print(f\"You've saved {len(artist_name)} songs in {playlist} Playlist\")\n"
   ]
  },
  {
   "cell_type": "code",
   "execution_count": 54,
   "metadata": {},
   "outputs": [],
   "source": [
    "df = pd.DataFrame({\"song_title\":song_title, \"artist_name\": artist_name, \"ids\": ids})"
   ]
  },
  {
   "cell_type": "code",
   "execution_count": 55,
   "metadata": {},
   "outputs": [],
   "source": [
    "output_data = \"decade_output/1960s.csv\""
   ]
  },
  {
   "cell_type": "code",
   "execution_count": 56,
   "metadata": {},
   "outputs": [],
   "source": [
    "df.to_csv(output_data)"
   ]
  },
  {
   "cell_type": "markdown",
   "metadata": {},
   "source": [
    "# 1970s"
   ]
  },
  {
   "cell_type": "code",
   "execution_count": 57,
   "metadata": {},
   "outputs": [],
   "source": [
    "playlist=\"All Out 70s\"\n",
    "playlist_id= \"37i9dQZF1DWTJ7xPn4vNaz\"\n",
    "user= \"spotify\"\n",
    "playlist_len=104\n",
    "offset_value=0\n",
    "artist_name=[]\n",
    "song_title=[]\n",
    "ids = []"
   ]
  },
  {
   "cell_type": "code",
   "execution_count": 58,
   "metadata": {},
   "outputs": [
    {
     "name": "stdout",
     "output_type": "stream",
     "text": [
      "You've saved 91 songs in All Out 60s Playlist\n"
     ]
    }
   ],
   "source": [
    "def call_playlists (offset_value):\n",
    "    playlists=spotify.user_playlist_tracks(user=user,playlist_id=playlist_id, offset=offset_value, limit=None)\n",
    "    return playlists\n",
    "\n",
    "playlist_len = playlist_len\n",
    "\n",
    "x=0\n",
    "    \n",
    "try:\n",
    "    while len(artist_name) <= playlist_len:\n",
    "        offset_value=0\n",
    "        playlists=call_playlists(offset_value)\n",
    "        artist=playlists[\"items\"][x]['track']['artists'][0]['name']\n",
    "        song=playlists[\"items\"][x]['track']['album']['name']\n",
    "        song_id=playlists[\"items\"][x][\"track\"][\"album\"][\"id\"]\n",
    "        if song_id not in ids:\n",
    "            artist_name.append(artist)\n",
    "            song_title.append(song)\n",
    "            ids.append(song_id)\n",
    "        x+=1\n",
    "        offset_value+=7\n",
    "        call_playlists(offset_value)\n",
    "except IndexError:\n",
    "    print(f\"You've saved {len(artist_name)} songs in {playlist} Playlist\")"
   ]
  },
  {
   "cell_type": "code",
   "execution_count": 59,
   "metadata": {},
   "outputs": [],
   "source": [
    "df = pd.DataFrame({\"song_title\":song_title, \"artist_name\": artist_name, \"ids\": ids})"
   ]
  },
  {
   "cell_type": "code",
   "execution_count": 60,
   "metadata": {},
   "outputs": [],
   "source": [
    "output_data = \"decade_output/1970s.csv\""
   ]
  },
  {
   "cell_type": "code",
   "execution_count": 61,
   "metadata": {},
   "outputs": [],
   "source": [
    "df.to_csv(output_data)"
   ]
  },
  {
   "cell_type": "markdown",
   "metadata": {},
   "source": [
    "# 1980s"
   ]
  },
  {
   "cell_type": "code",
   "execution_count": 67,
   "metadata": {},
   "outputs": [],
   "source": [
    "playlist=\"All Out 80s\"\n",
    "playlist_id= \"37i9dQZF1DX4UtSsGT1Sbe\"\n",
    "user= \"spotify\"\n",
    "playlist_len=101\n",
    "offset_value=0\n",
    "artist_name=[]\n",
    "song_title=[]\n",
    "ids = []"
   ]
  },
  {
   "cell_type": "code",
   "execution_count": 68,
   "metadata": {},
   "outputs": [
    {
     "name": "stdout",
     "output_type": "stream",
     "text": [
      "You've saved 96 songs in All Out 80s Playlist\n"
     ]
    }
   ],
   "source": [
    "def call_playlists (offset_value):\n",
    "    playlists=spotify.user_playlist_tracks(user=user,playlist_id=playlist_id, offset=offset_value, limit=None)\n",
    "    return playlists\n",
    "\n",
    "playlist_len = playlist_len\n",
    "\n",
    "x=0\n",
    "    \n",
    "try:\n",
    "    while len(artist_name) <= playlist_len:\n",
    "        offset_value=0\n",
    "        playlists=call_playlists(offset_value)\n",
    "        artist=playlists[\"items\"][x]['track']['artists'][0]['name']\n",
    "        song=playlists[\"items\"][x]['track']['album']['name']\n",
    "        song_id=playlists[\"items\"][x][\"track\"][\"album\"][\"id\"]\n",
    "        if song_id not in ids:\n",
    "            artist_name.append(artist)\n",
    "            song_title.append(song)\n",
    "            ids.append(song_id)\n",
    "        x+=1\n",
    "        offset_value+=7\n",
    "        call_playlists(offset_value)\n",
    "except IndexError:\n",
    "    print(f\"You've saved {len(artist_name)} songs in {playlist} Playlist\")"
   ]
  },
  {
   "cell_type": "code",
   "execution_count": 69,
   "metadata": {},
   "outputs": [],
   "source": [
    "df = pd.DataFrame({\"song_title\":song_title, \"artist_name\": artist_name, \"ids\": ids})"
   ]
  },
  {
   "cell_type": "code",
   "execution_count": 70,
   "metadata": {},
   "outputs": [],
   "source": [
    "output_data = \"decade_output/1980s.csv\""
   ]
  },
  {
   "cell_type": "code",
   "execution_count": 71,
   "metadata": {},
   "outputs": [],
   "source": [
    "df.to_csv(output_data)"
   ]
  },
  {
   "cell_type": "markdown",
   "metadata": {},
   "source": [
    "# 1990s"
   ]
  },
  {
   "cell_type": "code",
   "execution_count": 87,
   "metadata": {},
   "outputs": [],
   "source": [
    "playlist=\"All Out 90s\"\n",
    "playlist_id= \"37i9dQZF1DXbTxeAdrVG2l\"\n",
    "user= \"spotify\"\n",
    "playlist_len=91\n",
    "offset_value=0\n",
    "artist_name=[]\n",
    "song_title=[]\n",
    "ids = []"
   ]
  },
  {
   "cell_type": "code",
   "execution_count": 88,
   "metadata": {},
   "outputs": [
    {
     "name": "stdout",
     "output_type": "stream",
     "text": [
      "You've saved 84 songs in All Out 90s Playlist\n"
     ]
    }
   ],
   "source": [
    "def call_playlists (offset_value):\n",
    "    playlists=spotify.user_playlist_tracks(user=user,playlist_id=playlist_id, offset=offset_value, limit=None)\n",
    "    return playlists\n",
    "\n",
    "playlist_len = playlist_len\n",
    "\n",
    "x=0\n",
    "    \n",
    "try:\n",
    "    while len(artist_name) <= playlist_len:\n",
    "        offset_value=0\n",
    "        playlists=call_playlists(offset_value)\n",
    "        artist=playlists[\"items\"][x]['track']['artists'][0]['name']\n",
    "        song=playlists[\"items\"][x]['track']['album']['name']\n",
    "        song_id=playlists[\"items\"][x][\"track\"][\"album\"][\"id\"]\n",
    "        if song_id not in ids:\n",
    "            artist_name.append(artist)\n",
    "            song_title.append(song)\n",
    "            ids.append(song_id)\n",
    "        x+=1\n",
    "        offset_value+=7\n",
    "        call_playlists(offset_value)\n",
    "except IndexError:\n",
    "    print(f\"You've saved {len(artist_name)} songs in {playlist} Playlist\")"
   ]
  },
  {
   "cell_type": "code",
   "execution_count": 89,
   "metadata": {},
   "outputs": [],
   "source": [
    "df = pd.DataFrame({\"song_title\":song_title, \"artist_name\": artist_name, \"ids\": ids})"
   ]
  },
  {
   "cell_type": "code",
   "execution_count": 90,
   "metadata": {},
   "outputs": [],
   "source": [
    "output_data = \"decade_output/1990s.csv\""
   ]
  },
  {
   "cell_type": "code",
   "execution_count": 91,
   "metadata": {},
   "outputs": [],
   "source": [
    "df.to_csv(output_data)"
   ]
  },
  {
   "cell_type": "markdown",
   "metadata": {},
   "source": [
    "# 2000s"
   ]
  },
  {
   "cell_type": "code",
   "execution_count": 92,
   "metadata": {},
   "outputs": [],
   "source": [
    "playlist=\"All Out 00s\"\n",
    "playlist_id= \"37i9dQZF1DX4o1oenSJRJd\"\n",
    "user= \"spotify\"\n",
    "playlist_len=100\n",
    "offset_value=0\n",
    "artist_name=[]\n",
    "song_title=[]\n",
    "ids = []"
   ]
  },
  {
   "cell_type": "code",
   "execution_count": 93,
   "metadata": {},
   "outputs": [
    {
     "name": "stdout",
     "output_type": "stream",
     "text": [
      "You've saved 88 songs in All Out 00s Playlist\n"
     ]
    }
   ],
   "source": [
    "def call_playlists (offset_value):\n",
    "    playlists=spotify.user_playlist_tracks(user=user,playlist_id=playlist_id, offset=offset_value, limit=None)\n",
    "    return playlists\n",
    "\n",
    "playlist_len = playlist_len\n",
    "\n",
    "x=0\n",
    "    \n",
    "try:\n",
    "    while len(artist_name) <= playlist_len:\n",
    "        offset_value=0\n",
    "        playlists=call_playlists(offset_value)\n",
    "        artist=playlists[\"items\"][x]['track']['artists'][0]['name']\n",
    "        song=playlists[\"items\"][x]['track']['album']['name']\n",
    "        song_id=playlists[\"items\"][x][\"track\"][\"album\"][\"id\"]\n",
    "        if song_id not in ids:\n",
    "            artist_name.append(artist)\n",
    "            song_title.append(song)\n",
    "            ids.append(song_id)\n",
    "        x+=1\n",
    "        offset_value+=7\n",
    "        call_playlists(offset_value)\n",
    "except IndexError:\n",
    "    print(f\"You've saved {len(artist_name)} songs in {playlist} Playlist\")"
   ]
  },
  {
   "cell_type": "code",
   "execution_count": 94,
   "metadata": {},
   "outputs": [],
   "source": [
    "df = pd.DataFrame({\"song_title\":song_title, \"artist_name\": artist_name, \"ids\": ids})"
   ]
  },
  {
   "cell_type": "code",
   "execution_count": 95,
   "metadata": {},
   "outputs": [],
   "source": [
    "output_data = \"decade_output/2000s.csv\""
   ]
  },
  {
   "cell_type": "code",
   "execution_count": 96,
   "metadata": {},
   "outputs": [],
   "source": [
    "df.to_csv(output_data)"
   ]
  },
  {
   "cell_type": "markdown",
   "metadata": {},
   "source": [
    "# 2010s"
   ]
  },
  {
   "cell_type": "code",
   "execution_count": 82,
   "metadata": {},
   "outputs": [],
   "source": [
    "playlist=\"All Out 10s\"\n",
    "playlist_id= \"37i9dQZF1DX5Ejj0EkURtP\"\n",
    "user= \"spotify\"\n",
    "playlist_len=99\n",
    "offset_value=0\n",
    "artist_name=[]\n",
    "song_title=[]\n",
    "ids = []"
   ]
  },
  {
   "cell_type": "code",
   "execution_count": 83,
   "metadata": {},
   "outputs": [
    {
     "name": "stdout",
     "output_type": "stream",
     "text": [
      "You've saved 87 songs in All Out 10s Playlist\n"
     ]
    }
   ],
   "source": [
    "def call_playlists (offset_value):\n",
    "    playlists=spotify.user_playlist_tracks(user=user,playlist_id=playlist_id, offset=offset_value, limit=None)\n",
    "    return playlists\n",
    "\n",
    "playlist_len = playlist_len\n",
    "\n",
    "x=0\n",
    "    \n",
    "try:\n",
    "    while len(artist_name) <= playlist_len:\n",
    "        offset_value=0\n",
    "        playlists=call_playlists(offset_value)\n",
    "        artist=playlists[\"items\"][x]['track']['artists'][0]['name']\n",
    "        song=playlists[\"items\"][x]['track']['album']['name']\n",
    "        song_id=playlists[\"items\"][x][\"track\"][\"album\"][\"id\"]\n",
    "        if song_id not in ids:\n",
    "            artist_name.append(artist)\n",
    "            song_title.append(song)\n",
    "            ids.append(song_id)\n",
    "        x+=1\n",
    "        offset_value+=7\n",
    "        call_playlists(offset_value)\n",
    "except IndexError:\n",
    "    print(f\"You've saved {len(artist_name)} songs in {playlist} Playlist\")"
   ]
  },
  {
   "cell_type": "code",
   "execution_count": 84,
   "metadata": {},
   "outputs": [],
   "source": [
    "df = pd.DataFrame({\"song_title\":song_title, \"artist_name\": artist_name, \"ids\": ids})"
   ]
  },
  {
   "cell_type": "code",
   "execution_count": 85,
   "metadata": {},
   "outputs": [],
   "source": [
    "output_data = \"decade_output/2010s.csv\""
   ]
  },
  {
   "cell_type": "code",
   "execution_count": 1,
   "metadata": {},
   "outputs": [
    {
     "ename": "NameError",
     "evalue": "name 'df' is not defined",
     "output_type": "error",
     "traceback": [
      "\u001b[0;31m---------------------------------------------------------------------------\u001b[0m",
      "\u001b[0;31mNameError\u001b[0m                                 Traceback (most recent call last)",
      "\u001b[0;32m<ipython-input-1-6b0fdcd547d3>\u001b[0m in \u001b[0;36m<module>\u001b[0;34m\u001b[0m\n\u001b[0;32m----> 1\u001b[0;31m \u001b[0mdf\u001b[0m\u001b[0;34m.\u001b[0m\u001b[0mto_csv\u001b[0m\u001b[0;34m(\u001b[0m\u001b[0moutput_data\u001b[0m\u001b[0;34m)\u001b[0m\u001b[0;34m\u001b[0m\u001b[0;34m\u001b[0m\u001b[0m\n\u001b[0m",
      "\u001b[0;31mNameError\u001b[0m: name 'df' is not defined"
     ]
    }
   ],
   "source": [
    "df.to_csv(output_data)"
   ]
  },
  {
   "cell_type": "code",
   "execution_count": null,
   "metadata": {},
   "outputs": [],
   "source": []
  }
 ],
 "metadata": {
  "kernelspec": {
   "display_name": "Python 3",
   "language": "python",
   "name": "python3"
  },
  "language_info": {
   "codemirror_mode": {
    "name": "ipython",
    "version": 3
   },
   "file_extension": ".py",
   "mimetype": "text/x-python",
   "name": "python",
   "nbconvert_exporter": "python",
   "pygments_lexer": "ipython3",
   "version": "3.7.1"
  }
 },
 "nbformat": 4,
 "nbformat_minor": 2
}

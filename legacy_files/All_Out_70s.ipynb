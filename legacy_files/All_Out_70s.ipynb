{
 "cells": [
  {
   "cell_type": "markdown",
   "metadata": {},
   "source": [
    "## All Out 70's Playlist"
   ]
  },
  {
   "cell_type": "code",
   "execution_count": 1,
   "metadata": {},
   "outputs": [],
   "source": [
    "#Dependencies\n",
    "import pandas as pd\n",
    "import csv\n",
    "import spotipy\n",
    "import spotipy.util as util\n",
    "from spotipy.oauth2 import SpotifyClientCredentials\n",
    "import spotipy.oauth2 as oauth2\n",
    "from pprint import pprint\n",
    "\n",
    "market = [\"US\"]\n",
    "\n",
    "#Obtain access from Spotify\n",
    "\n",
    "CLIENT_ID = \"05d36be6186b4810b1263274ddfa3642\"\n",
    "CLIENT_SECRET = \"8d2727466e9e43849cdad4e516148594\"\n",
    "\n",
    "credentials = oauth2.SpotifyClientCredentials(\n",
    "        client_id=CLIENT_ID,\n",
    "        client_secret=CLIENT_SECRET)\n",
    "\n",
    "token = credentials.get_access_token()\n",
    "spotify = spotipy.Spotify(auth=token)"
   ]
  },
  {
   "cell_type": "code",
   "execution_count": 2,
   "metadata": {},
   "outputs": [],
   "source": [
    "# Find playlists of the top 50 songs of each decade\n",
    "\n",
    "#playlist_top=\"United States Top 50\"\n",
    "#playlist_50=\"All Out 50s\"\n",
    "# playlist_60=\"All Out 60s\"\n",
    "playlist_70=\"All Out 70s\"\n",
    "# playlist_80=\"All Out 80s\"\n",
    "#playlist_90=\"All Out 90s\"\n",
    "#playlist_00=\"All Out 00s\"\n",
    "#playlist_10=\"All Out 10s\"\n",
    "\n",
    "song_titles_list =[]\n",
    "artist_names_list=[]\n",
    "\n",
    "sp = spotipy.Spotify(auth=token)\n",
    "results = sp.search(q=playlist_70, limit=50,type='playlist')\n",
    "\n",
    "#Loop through json results to extract lists of songs and artists\n",
    "for playlist in results['playlists']['items']:\n",
    "    results = sp.user_playlist(playlist['owner']['id'], playlist['id'], fields=\"tracks,next\")\n",
    "    tracks = results['tracks']\n",
    "    song_title= tracks['items'][0]['track']['name']\n",
    "    song_titles_list.append(song_title)\n",
    "    \n",
    "    artist_name= tracks['items'][0]['track']['album']['artists'][0]['name']\n",
    "    artist_names_list.append(artist_name)\n",
    "    "
   ]
  },
  {
   "cell_type": "code",
   "execution_count": 3,
   "metadata": {},
   "outputs": [
    {
     "data": {
      "text/plain": [
       "50"
      ]
     },
     "execution_count": 3,
     "metadata": {},
     "output_type": "execute_result"
    }
   ],
   "source": [
    "#check if lists return 50 values\n",
    "len(artist_names_list)"
   ]
  },
  {
   "cell_type": "code",
   "execution_count": 4,
   "metadata": {},
   "outputs": [],
   "source": [
    "dict_70s=dict(zip(song_titles_list,artist_names_list))\n",
    "s=pd.Series(dict_70s,name='artist')\n",
    "s.index.name='song'\n",
    "b=s.reset_index()\n",
    "p=pd.DataFrame(b)"
   ]
  },
  {
   "cell_type": "code",
   "execution_count": 5,
   "metadata": {},
   "outputs": [],
   "source": [
    "p.to_csv('decade_output/1970s.csv')"
   ]
  },
  {
   "cell_type": "code",
   "execution_count": 6,
   "metadata": {},
   "outputs": [],
   "source": [
    "# #create dictionary of songs and artists\n",
    "# dict_70s = {key:value for key, value in zip(song_titles_list,artist_names_list)}\n",
    "# pd.DataFrame(dict_70s.items(),columns=['song','artist'])\n"
   ]
  },
  {
   "cell_type": "code",
   "execution_count": 7,
   "metadata": {},
   "outputs": [],
   "source": [
    "# #Edit dictionary to remove brackets\n",
    "# dict_80s_ed = dict_80s.items()\n",
    "    \n",
    "# dict_80s_ed  "
   ]
  },
  {
   "cell_type": "code",
   "execution_count": 8,
   "metadata": {},
   "outputs": [],
   "source": [
    "# #Save results to csv\n",
    "# import csv\n",
    "\n",
    "# output_data = \"decade_output/1980s.csv\"\n",
    "# myFile = open(output_data, 'w')\n",
    "# with myFile:\n",
    "#     writer = csv.writer(myFile)\n",
    "#     writer.writerows(dict_80s_ed)\n",
    "     \n",
    "# print(\"Writing complete\")"
   ]
  },
  {
   "cell_type": "code",
   "execution_count": null,
   "metadata": {},
   "outputs": [],
   "source": []
  }
 ],
 "metadata": {
  "kernelspec": {
   "display_name": "Python 3",
   "language": "python",
   "name": "python3"
  },
  "language_info": {
   "codemirror_mode": {
    "name": "ipython",
    "version": 3
   },
   "file_extension": ".py",
   "mimetype": "text/x-python",
   "name": "python",
   "nbconvert_exporter": "python",
   "pygments_lexer": "ipython3",
   "version": "3.7.1"
  }
 },
 "nbformat": 4,
 "nbformat_minor": 2
}

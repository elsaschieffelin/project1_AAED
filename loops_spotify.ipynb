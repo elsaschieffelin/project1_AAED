{
 "cells": [
  {
   "cell_type": "code",
   "execution_count": 13,
   "metadata": {},
   "outputs": [],
   "source": [
    "import pandas as pd\n",
    "import requests\n",
    "import json\n",
    "from pprint import pprint\n",
    "import spotipy\n",
    "import spotipy.util as util\n",
    "from spotipy.oauth2 import SpotifyClientCredentials\n",
    "import spotipy.oauth2 as oauth2\n",
    "from config import spotify_elsa_id\n",
    "from config import spotify_elsa_secret"
   ]
  },
  {
   "cell_type": "code",
   "execution_count": 14,
   "metadata": {},
   "outputs": [],
   "source": [
    "market = [\"US\"]\n",
    "\n",
    "client_id = spotify_elsa_id\n",
    "secret_id = spotify_elsa_secret\n",
    "\n",
    "credentials = oauth2.SpotifyClientCredentials(\n",
    "       client_id=client_id,\n",
    "       client_secret=secret_id)"
   ]
  },
  {
   "cell_type": "code",
   "execution_count": 15,
   "metadata": {},
   "outputs": [],
   "source": [
    "token = credentials.get_access_token()\n",
    "spotify = spotipy.Spotify(auth=token)"
   ]
  },
  {
   "cell_type": "code",
   "execution_count": 16,
   "metadata": {},
   "outputs": [
    {
     "name": "stdout",
     "output_type": "stream",
     "text": [
      "{'tracks': {'href': 'https://api.spotify.com/v1/search?query=September&type=track&market=US&offset=0&limit=1',\n",
      "            'items': [{'album': {'album_type': 'compilation',\n",
      "                                 'artists': [{'external_urls': {'spotify': 'https://open.spotify.com/artist/4QQgXkCYTt3BlENzhyNETg'},\n",
      "                                              'href': 'https://api.spotify.com/v1/artists/4QQgXkCYTt3BlENzhyNETg',\n",
      "                                              'id': '4QQgXkCYTt3BlENzhyNETg',\n",
      "                                              'name': 'Earth, Wind & Fire',\n",
      "                                              'type': 'artist',\n",
      "                                              'uri': 'spotify:artist:4QQgXkCYTt3BlENzhyNETg'}],\n",
      "                                 'external_urls': {'spotify': 'https://open.spotify.com/album/6UixeNUSjrBnxeYV0ZuGHR'},\n",
      "                                 'href': 'https://api.spotify.com/v1/albums/6UixeNUSjrBnxeYV0ZuGHR',\n",
      "                                 'id': '6UixeNUSjrBnxeYV0ZuGHR',\n",
      "                                 'images': [{'height': 640,\n",
      "                                             'url': 'https://i.scdn.co/image/b7bd8553e9d96e3b924b7d58eb9609f3b52939c7',\n",
      "                                             'width': 640},\n",
      "                                            {'height': 300,\n",
      "                                             'url': 'https://i.scdn.co/image/cdedaa18aaa2824759ae67bf1ed2e9197b9b7538',\n",
      "                                             'width': 300},\n",
      "                                            {'height': 64,\n",
      "                                             'url': 'https://i.scdn.co/image/ac389cffa601731f10f738d38f604523ba19a225',\n",
      "                                             'width': 64}],\n",
      "                                 'name': 'The Eternal Dance',\n",
      "                                 'release_date': '1992-09-08',\n",
      "                                 'release_date_precision': 'day',\n",
      "                                 'total_tracks': 55,\n",
      "                                 'type': 'album',\n",
      "                                 'uri': 'spotify:album:6UixeNUSjrBnxeYV0ZuGHR'},\n",
      "                       'artists': [{'external_urls': {'spotify': 'https://open.spotify.com/artist/4QQgXkCYTt3BlENzhyNETg'},\n",
      "                                    'href': 'https://api.spotify.com/v1/artists/4QQgXkCYTt3BlENzhyNETg',\n",
      "                                    'id': '4QQgXkCYTt3BlENzhyNETg',\n",
      "                                    'name': 'Earth, Wind & Fire',\n",
      "                                    'type': 'artist',\n",
      "                                    'uri': 'spotify:artist:4QQgXkCYTt3BlENzhyNETg'}],\n",
      "                       'disc_number': 3,\n",
      "                       'duration_ms': 214826,\n",
      "                       'explicit': False,\n",
      "                       'external_ids': {'isrc': 'USSM17800253'},\n",
      "                       'external_urls': {'spotify': 'https://open.spotify.com/track/5nNmj1cLH3r4aA4XDJ2bgY'},\n",
      "                       'href': 'https://api.spotify.com/v1/tracks/5nNmj1cLH3r4aA4XDJ2bgY',\n",
      "                       'id': '5nNmj1cLH3r4aA4XDJ2bgY',\n",
      "                       'is_local': False,\n",
      "                       'is_playable': True,\n",
      "                       'name': 'September',\n",
      "                       'popularity': 80,\n",
      "                       'preview_url': 'https://p.scdn.co/mp3-preview/5fce831e28eb2ae69f1c44e340c2368c228e0764?cid=13764705a49f421bb41a6c08dfe02566',\n",
      "                       'track_number': 1,\n",
      "                       'type': 'track',\n",
      "                       'uri': 'spotify:track:5nNmj1cLH3r4aA4XDJ2bgY'}],\n",
      "            'limit': 1,\n",
      "            'next': 'https://api.spotify.com/v1/search?query=September&type=track&market=US&offset=1&limit=1',\n",
      "            'offset': 0,\n",
      "            'previous': None,\n",
      "            'total': 27917}}\n"
     ]
    }
   ],
   "source": [
    "track = \"September\"\n",
    "res = spotify.search(track, type = \"track\", market = market, limit=1)\n",
    "pprint(res)"
   ]
  },
  {
   "cell_type": "code",
   "execution_count": 17,
   "metadata": {},
   "outputs": [
    {
     "name": "stdout",
     "output_type": "stream",
     "text": [
      "'Ben E. King'\n"
     ]
    }
   ],
   "source": [
    "query=\"All Out 50s\"\n",
    "results = spotify.search(q=query, limit=1, type='playlist')\n",
    "\n",
    "for playlist in results['playlists']['items']:\n",
    "    results=spotify.user_playlist(playlist['owner']['id'], playlist['id'], fields=\"tracks,next\")\n",
    "    tracks = results['tracks']\n",
    "#pprint(tracks)\n",
    "\n",
    "track=tracks[\"items\"][0][\"track\"]\n",
    "artist =track[\"artists\"][0][\"name\"]\n",
    "pprint(artist)"
   ]
  },
  {
   "cell_type": "code",
   "execution_count": 18,
   "metadata": {},
   "outputs": [
    {
     "data": {
      "text/plain": [
       "'Stand By Me'"
      ]
     },
     "execution_count": 18,
     "metadata": {},
     "output_type": "execute_result"
    }
   ],
   "source": [
    "song=track[\"name\"]\n",
    "song"
   ]
  },
  {
   "cell_type": "code",
   "execution_count": 19,
   "metadata": {},
   "outputs": [],
   "source": [
    "artist_name=[]\n",
    "song_title=[]\n",
    "playlist=\"All Out 50s\"\n",
    "    "
   ]
  },
  {
   "cell_type": "code",
   "execution_count": 20,
   "metadata": {},
   "outputs": [],
   "source": [
    "x=0\n",
    "\n",
    "query=\"All Out 50s\"\n",
    "results = spotify.search(q=query, limit = 50, type='playlist')\n",
    "for playlist in results['playlists']['items']:\n",
    "    results=spotify.user_playlist(playlist['owner']['id'], playlist['id'], fields=\"tracks,next\")\n",
    "    tracks = results['tracks']\n",
    "    track=tracks[\"items\"][0][\"track\"]\n",
    "    artist =track[\"artists\"][0][\"name\"]\n",
    "    song=track[\"name\"]\n",
    "    artist_name.append(artist)\n",
    "    song_title.append(song)\n",
    "\n",
    "    "
   ]
  },
  {
   "cell_type": "code",
   "execution_count": 21,
   "metadata": {},
   "outputs": [
    {
     "data": {
      "text/plain": [
       "50"
      ]
     },
     "execution_count": 21,
     "metadata": {},
     "output_type": "execute_result"
    }
   ],
   "source": [
    "len(artist_name)\n"
   ]
  },
  {
   "cell_type": "code",
   "execution_count": 22,
   "metadata": {},
   "outputs": [
    {
     "data": {
      "text/plain": [
       "50"
      ]
     },
     "execution_count": 22,
     "metadata": {},
     "output_type": "execute_result"
    }
   ],
   "source": [
    "len(song_title)"
   ]
  },
  {
   "cell_type": "code",
   "execution_count": 23,
   "metadata": {},
   "outputs": [],
   "source": [
    "tracks=list(zip(song_title, artist_name))"
   ]
  },
  {
   "cell_type": "code",
   "execution_count": 30,
   "metadata": {},
   "outputs": [],
   "source": [
    "x=0\n",
    "tracks_50s=[]\n",
    "for item in tracks: \n",
    "    artist=artist_name[x]\n",
    "    song=song_title[x]\n",
    "    mydict=[{\"song_title\":song, \"artist_name\":artist}]\n",
    "    tracks_50s.append(mydict)\n",
    "    x+=1"
   ]
  },
  {
   "cell_type": "code",
   "execution_count": 31,
   "metadata": {},
   "outputs": [
    {
     "data": {
      "text/plain": [
       "[[{'song_title': 'Stand By Me', 'artist_name': 'Ben E. King'}],\n",
       " [{'song_title': \"Ain't No Mountain High Enough\",\n",
       "   'artist_name': 'Marvin Gaye'}],\n",
       " [{'song_title': 'Happy Together', 'artist_name': 'The Turtles'}],\n",
       " [{'song_title': 'Tears On My Pillow', 'artist_name': 'The Imperials'}],\n",
       " [{'song_title': 'The Wanderer', 'artist_name': 'Dion'}],\n",
       " [{'song_title': 'The Wanderer', 'artist_name': 'Dion'}],\n",
       " [{'song_title': 'Oh, Pretty Woman', 'artist_name': 'Roy Orbison'}],\n",
       " [{'song_title': 'Mala Femmina', 'artist_name': 'Jerry Vale'}],\n",
       " [{'song_title': 'September', 'artist_name': 'Earth, Wind & Fire'}],\n",
       " [{'song_title': 'Devil Woman - 2001 Remaster',\n",
       "   'artist_name': 'Cliff Richard'}],\n",
       " [{'song_title': 'Wonderwall', 'artist_name': 'Oasis'}],\n",
       " [{'song_title': 'Five Minutes More', 'artist_name': 'Frank Sinatra'}],\n",
       " [{'song_title': 'Across 110th Street', 'artist_name': 'Bobby Womack'}],\n",
       " [{'song_title': 'Umbrella', 'artist_name': 'The Baseballs'}],\n",
       " [{'song_title': 'Johnny B. Goode', 'artist_name': 'Chuck Berry'}],\n",
       " [{'song_title': 'Where Do You Go To (My Lovely)',\n",
       "   'artist_name': 'Peter Sarstedt'}],\n",
       " [{'song_title': 'Sealed With A Kiss', 'artist_name': 'Brian Hyland'}],\n",
       " [{'song_title': 'Jailhouse Rock', 'artist_name': 'Elvis Presley'}],\n",
       " [{'song_title': '(Your Love Keeps Lifting Me) Higher & Higher',\n",
       "   'artist_name': 'Jackie Wilson'}],\n",
       " [{'song_title': 'Born To Be Wild', 'artist_name': 'Steppenwolf'}],\n",
       " [{'song_title': 'We Belong Together', 'artist_name': 'Ritchie Valens'}],\n",
       " [{'song_title': 'The Winner Takes It All', 'artist_name': 'ABBA'}],\n",
       " [{'song_title': 'Unchained Melody', 'artist_name': 'The Righteous Brothers'}],\n",
       " [{'song_title': 'Unforgettable', 'artist_name': 'Natalie Cole'}],\n",
       " [{'song_title': \"I'm Walkin'\", 'artist_name': 'Fats Domino'}],\n",
       " [{'song_title': 'A Teenager In Love', 'artist_name': 'Marty Wilde'}],\n",
       " [{'song_title': 'Runaround Sue - Remastered 1991', 'artist_name': 'Dion'}],\n",
       " [{'song_title': 'Love Letters In The Sand - Single Version',\n",
       "   'artist_name': 'Pat Boone'}],\n",
       " [{'song_title': 'I Get Along Without You Very Well (Except Sometimes)',\n",
       "   'artist_name': 'Chet Baker'}],\n",
       " [{'song_title': 'Jailhouse Rock', 'artist_name': 'Elvis Presley'}],\n",
       " [{'song_title': 'Johnny B. Goode - Single Version',\n",
       "   'artist_name': 'Chuck Berry'}],\n",
       " [{'song_title': 'KMT', 'artist_name': 'Drake'}],\n",
       " [{'song_title': 'The Wanderer', 'artist_name': 'Dion'}],\n",
       " [{'song_title': 'Unforgettable', 'artist_name': 'Natalie Cole'}],\n",
       " [{'song_title': 'Oh, Pretty Woman', 'artist_name': 'Roy Orbison'}],\n",
       " [{'song_title': 'The Wanderer', 'artist_name': 'Dion'}],\n",
       " [{'song_title': 'Heaven', 'artist_name': 'Bryan Adams'}],\n",
       " [{'song_title': 'Brown Eyed Girl', 'artist_name': 'Van Morrison'}],\n",
       " [{'song_title': 'Maybe', 'artist_name': 'The Ink Spots'}],\n",
       " [{'song_title': 'Stand by Me', 'artist_name': 'Ben E. King'}],\n",
       " [{'song_title': 'Runaround Sue - Remastered 1991', 'artist_name': 'Dion'}],\n",
       " [{'song_title': \"Let's Dance\", 'artist_name': 'Chris Montez'}],\n",
       " [{'song_title': 'Twist And Shout - Remastered',\n",
       "   'artist_name': 'The Beatles'}],\n",
       " [{'song_title': 'Lonesome Town - 1990 Digital Remaster',\n",
       "   'artist_name': 'Ricky Nelson'}],\n",
       " [{'song_title': 'Sh-Boom - Single Version', 'artist_name': 'The Chords'}],\n",
       " [{'song_title': 'Johnny B. Goode', 'artist_name': 'Chuck Berry'}],\n",
       " [{'song_title': 'Jump', 'artist_name': 'Van Halen'}],\n",
       " [{'song_title': 'Under the Boardwalk', 'artist_name': 'The Drifters'}],\n",
       " [{'song_title': 'Runaround Sue - Remastered 1991', 'artist_name': 'Dion'}],\n",
       " [{'song_title': 'The Wanderer', 'artist_name': 'Dion'}]]"
      ]
     },
     "execution_count": 31,
     "metadata": {},
     "output_type": "execute_result"
    }
   ],
   "source": [
    "tracks_50s"
   ]
  },
  {
   "cell_type": "code",
   "execution_count": null,
   "metadata": {},
   "outputs": [],
   "source": []
  }
 ],
 "metadata": {
  "kernelspec": {
   "display_name": "Python 3",
   "language": "python",
   "name": "python3"
  },
  "language_info": {
   "codemirror_mode": {
    "name": "ipython",
    "version": 3
   },
   "file_extension": ".py",
   "mimetype": "text/x-python",
   "name": "python",
   "nbconvert_exporter": "python",
   "pygments_lexer": "ipython3",
   "version": "3.7.1"
  }
 },
 "nbformat": 4,
 "nbformat_minor": 2
}

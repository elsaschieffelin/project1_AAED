{
 "cells": [
  {
   "cell_type": "code",
   "execution_count": 2,
   "metadata": {},
   "outputs": [],
   "source": [
    "import pandas as pd\n",
    "import requests\n",
    "import json\n",
    "from pprint import pprint\n",
    "import spotipy\n",
    "import spotipy.util as util\n",
    "from spotipy.oauth2 import SpotifyClientCredentials\n",
    "import spotipy.oauth2 as oauth2\n",
    "from config import spotify_elsa_id\n",
    "from config import spotify_elsa_secret"
   ]
  },
  {
   "cell_type": "code",
   "execution_count": 3,
   "metadata": {},
   "outputs": [],
   "source": [
    "market = [\"US\"]\n",
    "\n",
    "client_id = spotify_elsa_id\n",
    "secret_id = spotify_elsa_secret\n",
    "\n",
    "credentials = oauth2.SpotifyClientCredentials(\n",
    "       client_id=client_id,\n",
    "       client_secret=secret_id)"
   ]
  },
  {
   "cell_type": "code",
   "execution_count": 4,
   "metadata": {},
   "outputs": [],
   "source": [
    "token = credentials.get_access_token()\n",
    "spotify = spotipy.Spotify(auth=token)"
   ]
  },
  {
   "cell_type": "code",
   "execution_count": null,
   "metadata": {},
   "outputs": [],
   "source": []
  },
  {
   "cell_type": "code",
   "execution_count": 5,
   "metadata": {},
   "outputs": [
    {
     "ename": "NameError",
     "evalue": "name 'tracks' is not defined",
     "output_type": "error",
     "traceback": [
      "\u001b[0;31m---------------------------------------------------------------------------\u001b[0m",
      "\u001b[0;31mNameError\u001b[0m                                 Traceback (most recent call last)",
      "\u001b[0;32m<ipython-input-5-b3fd9fcddb9e>\u001b[0m in \u001b[0;36m<module>\u001b[0;34m\u001b[0m\n\u001b[0;32m----> 1\u001b[0;31m \u001b[0mtrack\u001b[0m\u001b[0;34m=\u001b[0m\u001b[0mtracks\u001b[0m\u001b[0;34m[\u001b[0m\u001b[0;34m\"items\"\u001b[0m\u001b[0;34m]\u001b[0m\u001b[0;34m[\u001b[0m\u001b[0;36m0\u001b[0m\u001b[0;34m]\u001b[0m\u001b[0;34m[\u001b[0m\u001b[0;34m\"track\"\u001b[0m\u001b[0;34m]\u001b[0m\u001b[0;34m\u001b[0m\u001b[0;34m\u001b[0m\u001b[0m\n\u001b[0m\u001b[1;32m      2\u001b[0m \u001b[0martist\u001b[0m \u001b[0;34m=\u001b[0m\u001b[0mtrack\u001b[0m\u001b[0;34m[\u001b[0m\u001b[0;34m\"artists\"\u001b[0m\u001b[0;34m]\u001b[0m\u001b[0;34m[\u001b[0m\u001b[0;36m0\u001b[0m\u001b[0;34m]\u001b[0m\u001b[0;34m[\u001b[0m\u001b[0;34m\"name\"\u001b[0m\u001b[0;34m]\u001b[0m\u001b[0;34m\u001b[0m\u001b[0;34m\u001b[0m\u001b[0m\n\u001b[1;32m      3\u001b[0m \u001b[0mprint\u001b[0m\u001b[0;34m(\u001b[0m\u001b[0martist\u001b[0m\u001b[0;34m)\u001b[0m\u001b[0;34m\u001b[0m\u001b[0;34m\u001b[0m\u001b[0m\n\u001b[1;32m      4\u001b[0m \u001b[0msong\u001b[0m \u001b[0;34m=\u001b[0m \u001b[0mtrack\u001b[0m\u001b[0;34m[\u001b[0m\u001b[0;34m\"name\"\u001b[0m\u001b[0;34m]\u001b[0m\u001b[0;34m\u001b[0m\u001b[0;34m\u001b[0m\u001b[0m\n\u001b[1;32m      5\u001b[0m \u001b[0mprint\u001b[0m\u001b[0;34m(\u001b[0m\u001b[0msong\u001b[0m\u001b[0;34m)\u001b[0m\u001b[0;34m\u001b[0m\u001b[0;34m\u001b[0m\u001b[0m\n",
      "\u001b[0;31mNameError\u001b[0m: name 'tracks' is not defined"
     ]
    }
   ],
   "source": [
    "track=tracks[\"items\"][0][\"track\"]\n",
    "artist =track[\"artists\"][0][\"name\"]\n",
    "print(artist)\n",
    "song = track[\"name\"]\n",
    "print(song)"
   ]
  },
  {
   "cell_type": "code",
   "execution_count": 5,
   "metadata": {},
   "outputs": [],
   "source": [
    "artist_name = []\n",
    "song_title = []\n",
    "song_id = []"
   ]
  },
  {
   "cell_type": "code",
   "execution_count": 7,
   "metadata": {},
   "outputs": [
    {
     "data": {
      "text/plain": [
       "{'next': None}"
      ]
     },
     "execution_count": 7,
     "metadata": {},
     "output_type": "execute_result"
    }
   ],
   "source": [
    "#(user, playlist_id=None, fields=None, limit=100, offset=0, market=None\n",
    "x=0\n",
    "offset_value = 0\n",
    "track_list = []\n",
    "playlist_id=\"37i9dQZF1DXcBWIGoYBM5M\"\n",
    "user=\"Spotify\"\n",
    "for items in playlists: \n",
    "results = spotify.user_playlist_tracks(user=user,playlist_id=playlist_id,offset=offset_value limit=100)\n",
    "#pprint(results)\n",
    "results\n"
   ]
  },
  {
   "cell_type": "code",
   "execution_count": 77,
   "metadata": {},
   "outputs": [
    {
     "data": {
      "text/plain": [
       "7"
      ]
     },
     "execution_count": 77,
     "metadata": {},
     "output_type": "execute_result"
    }
   ],
   "source": [
    "for track in track_list: \n",
    "    track_result = track_list[x][\"track\"]\n",
    "    artist = track_result[\"artists\"][0][\"name\"]\n",
    "    song = track_result[\"name\"]\n",
    "    song_id = track_result[\"id\"]\n",
    "    if song_id not in ids: \n",
    "        artist_name.append(artist)\n",
    "        song_title.append(song_title)\n",
    "        ids.append(song_id)\n",
    "    x+=1"
   ]
  },
  {
   "cell_type": "code",
   "execution_count": 68,
   "metadata": {},
   "outputs": [],
   "source": [
    "artist_name = []\n",
    "song_title = []\n",
    "ids = []\n",
    "x=0\n",
    "for track in track_list: \n",
    "    track_result = track_list[x][\"track\"]\n",
    "    artist = track_result[\"artists\"][0][\"name\"]\n",
    "    song = track_result[\"name\"]\n",
    "    song_id = track_result[\"id\"]\n",
    "    if song_id not in ids: \n",
    "        artist_name.append(artist)\n",
    "        song_title.append(song_title)\n",
    "        ids.append(song_id)\n",
    "    x+=1\n",
    "    "
   ]
  },
  {
   "cell_type": "code",
   "execution_count": 69,
   "metadata": {},
   "outputs": [
    {
     "name": "stdout",
     "output_type": "stream",
     "text": [
      "7\n",
      "7\n",
      "7\n"
     ]
    }
   ],
   "source": [
    "print(len(artist_name))\n",
    "print(len(song_title))\n",
    "print(len(ids))"
   ]
  },
  {
   "cell_type": "code",
   "execution_count": null,
   "metadata": {},
   "outputs": [],
   "source": [
    "for playlist in results:\n",
    "    results=spotify.user_playlist(playlist['owner']['id'], playlist['id'], fields=\"tracks,next\")\n",
    "    tracks = results['tracks']\n",
    "    track=tracks[\"items\"][0][\"track\"]\n",
    "    artist =track[\"artists\"][0][\"name\"]\n",
    "    song = track[\"name\"]\n",
    "    ID=track[\"album\"][\"artists\"][0][\"id\"]\n",
    "    if ID not in song_id: \n",
    "        artist_name.append(artist)\n",
    "        song_title.append(song)\n",
    "        song_id.append(ID)"
   ]
  },
  {
   "cell_type": "code",
   "execution_count": null,
   "metadata": {},
   "outputs": [],
   "source": [
    "\n",
    "for playlist in results['playlists']['items']:\n",
    "    results=spotify.user_playlist(playlist['spotify']['37i9dQZF1DXcBWIGoYBM5M'], playlist['37i9dQZF1DXcBWIGoYBM5M'], fields=\"tracks,next\")\n",
    "    tracks = results['tracks']\n",
    "    track=tracks[\"items\"][0][\"track\"]\n",
    "    artist =track[\"artists\"][0][\"name\"]\n",
    "    song = track[\"name\"]\n",
    "    ID=track[\"album\"][\"artists\"][0][\"id\"]\n",
    "    if ID not in song_id: \n",
    "        artist_name.append(artist)\n",
    "        song_title.append(song)\n",
    "        song_id.append(ID)"
   ]
  },
  {
   "cell_type": "code",
   "execution_count": 9,
   "metadata": {},
   "outputs": [
    {
     "name": "stdout",
     "output_type": "stream",
     "text": [
      "0\n",
      "0\n",
      "0\n"
     ]
    }
   ],
   "source": []
  },
  {
   "cell_type": "code",
   "execution_count": 9,
   "metadata": {},
   "outputs": [],
   "source": [
    "track_list = list(zip(song_title, artist_name, song_id))"
   ]
  },
  {
   "cell_type": "code",
   "execution_count": 10,
   "metadata": {},
   "outputs": [],
   "source": [
    "top_hits = []\n",
    "x=0\n",
    "for item in track_list: \n",
    "    artist=artist_name[x]\n",
    "    song=song_title[x]\n",
    "    ID=song_id[x]\n",
    "    mydict = [{\"song_title\": song, \"artist_name\": artist, \"song_id\": ID}]\n",
    "    top_hits.append(mydict)\n",
    "    x+=1"
   ]
  },
  {
   "cell_type": "code",
   "execution_count": 11,
   "metadata": {},
   "outputs": [
    {
     "name": "stdout",
     "output_type": "stream",
     "text": [
      "[[{'song_title': 'Here With Me', 'artist_name': 'Marshmello', 'song_id': '64KEffDW9EtZ1y2vBYgq8T'}], [{'song_title': 'Con Calma', 'artist_name': 'Daddy Yankee', 'song_id': '4VMYDCV2IEDYJArk749S6m'}], [{'song_title': '7 rings', 'artist_name': 'Ariana Grande', 'song_id': '66CXWjxzNUsdJxJ2JdwvnR'}], [{'song_title': 'Someone I Used To Know', 'artist_name': 'Zac Brown Band', 'song_id': '6yJCxee7QumYr820xdIsjo'}], [{'song_title': 'Kermal Allah', 'artist_name': 'Nassif Zeytoun', 'song_id': '2ieBl5s08uHBwM8sUPvg65'}], [{'song_title': 'باختصار', 'artist_name': 'Douzi', 'song_id': '2elOTj4JyFOFPiZOcn4RNG'}], [{'song_title': 'Ayam', 'artist_name': 'Tamer Ashour', 'song_id': '5rCq30EbJ3DfZPKybGZj8F'}], [{'song_title': 'Thursday (feat. H.E.R.)', 'artist_name': 'Jess Glynne', 'song_id': '4ScCswdRlyA23odg9thgIO'}], [{'song_title': 'Al Mafrood', 'artist_name': 'Aseel Hameem', 'song_id': '10bqdRYq6Ha83UeU77iXAo'}], [{'song_title': 'On My Way', 'artist_name': 'Alan Walker', 'song_id': '7vk5e3vY1uw9plTHJAMwjN'}], [{'song_title': 'Everything', 'artist_name': 'TobyMac', 'song_id': '5VX8hxrcfJWwaTLiqGUHG3'}], [{'song_title': 'Caught Up In The Country', 'artist_name': 'Rodney Atkins', 'song_id': '2qgvmDsc4jrqbAbjq1HGM2'}], [{'song_title': 'Tango', 'artist_name': 'Abir', 'song_id': '3QUOtWgmuxFyae4C0Q0thd'}], [{'song_title': 'Beautiful Crazy', 'artist_name': 'Luke Combs', 'song_id': '718COspgdWOnwOFpJHRZHS'}], [{'song_title': 'Wlad El Haram', 'artist_name': 'Wael Kfoury', 'song_id': '09A6IffSw0t8L8sfuOCVws'}], [{'song_title': 'God Only Knows', 'artist_name': 'for KING & COUNTRY', 'song_id': '3sDbKMebVH2VYcRSl7u1VC'}], [{'song_title': 'Mine', 'artist_name': 'Bazzi', 'song_id': '4GvEc3ANtPPjt1ZJllr5Zl'}], [{'song_title': 'Sucker', 'artist_name': 'Jonas Brothers', 'song_id': '7gOdHgIoIKoe4i9Tta6qdD'}], [{'song_title': '`Til The Sun Comes Back Around', 'artist_name': 'Stephen Schriner', 'song_id': '71lVKmZZsJNr3acXYCdPOK'}], [{'song_title': 'Look What You Made Me Do', 'artist_name': 'Taylor Swift', 'song_id': '06HL4z0CvFAxyc27GXpf02'}], [{'song_title': 'Girls Like You (feat. Cardi B)', 'artist_name': 'Maroon 5', 'song_id': '04gDigrS5kc9YWfZHwBETP'}], [{'song_title': '7 Years (Instrumental Version)', 'artist_name': \"The O'Neill Brothers Group\", 'song_id': '0cylxW7HGdK9xMdubw2oYW'}], [{'song_title': 'Never Forget You', 'artist_name': 'Zara Larsson', 'song_id': '1Xylc3o4UrD53lo9CvFvVg'}], [{'song_title': 'Mundo', 'artist_name': 'IV Of Spades', 'song_id': '4k9wp4ipHdA1bu1T4x1ZTG'}], [{'song_title': 'Fate', 'artist_name': 'Jae Mansa', 'song_id': '3Z5vCSzpgufecPOJIXa08d'}], [{'song_title': \"Don't Call Me Up\", 'artist_name': 'Mabel', 'song_id': '1MIVXf74SZHmTIp4V4paH4'}], [{'song_title': 'X', 'artist_name': 'Nicky Jam', 'song_id': '1SupJlEpv7RS2tPNRaHViT'}], [{'song_title': 'Dirt On My Boots', 'artist_name': 'Jon Pardi', 'song_id': '4MoAOfV4ROWofLG3a3hhBN'}], [{'song_title': 'MIDDLE CHILD', 'artist_name': 'J. Cole', 'song_id': '6l3HvQ5sa6mXTsMTB19rO5'}], [{'song_title': 'GIRL', 'artist_name': 'Maren Morris', 'song_id': '6WY7D3jk8zTrHtmkqqo5GI'}], [{'song_title': 'Without Me', 'artist_name': 'Halsey', 'song_id': '26VFTg2z8YR0cCuwLzESi2'}], [{'song_title': 'Shallow', 'artist_name': 'Lady Gaga', 'song_id': '1HY2Jd0NmPuamShAr6KMms'}], [{'song_title': 'She Thinks I Still Care', 'artist_name': 'George Jones', 'song_id': '2OpqcUtj10HHvGG6h9VYC5'}], [{'song_title': 'Let It Go', 'artist_name': 'Colin & Caroline', 'song_id': '2Y4125mDrgQyPD7dt76Rtm'}], [{'song_title': 'Last Hurrah', 'artist_name': 'Bebe Rexha', 'song_id': '64M6ah0SkkRsnPGtGiRAbb'}], [{'song_title': 'Like a Drum - The Chainsmokers Remix', 'artist_name': 'Guy Sebastian', 'song_id': '5PjekOABtfU2Kwo0AHVmci'}], [{'song_title': 'You Say', 'artist_name': 'Lauren Daigle', 'song_id': '40LHVA5BTQp9RxHOQ9JPYj'}], [{'song_title': 'Craving You', 'artist_name': 'Thomas Rhett', 'song_id': '6x2LnllRG5uGarZMsD4iO8'}], [{'song_title': 'Orange Trees', 'artist_name': 'MARINA', 'song_id': '6CwfuxIqcltXDGjfZsMd9A'}], [{'song_title': '7 Billion', 'artist_name': 'OBB', 'song_id': '2j8Rhj6E5iiRJFh6DO7e5t'}], [{'song_title': 'Aullando', 'artist_name': 'Wisin & Yandel', 'song_id': '1wZtkThiXbVNtj6hee6dz9'}], [{'song_title': 'Cake By The Ocean', 'artist_name': 'DNCE', 'song_id': '6T5tfhQCknKG4UnH90qGnz'}], [{'song_title': 'Despacito - Remix', 'artist_name': 'Luis Fonsi', 'song_id': '4V8Sr092TqfHkfAA5fXXqG'}], [{'song_title': 'Better', 'artist_name': 'Khalid', 'song_id': '6LuN9FCkKOj5PcnpouEgny'}], [{'song_title': 'Formidable', 'artist_name': 'Stromae', 'song_id': '5j4HeCoUlzhfWtjAfM1acR'}]]\n"
     ]
    }
   ],
   "source": [
    "print(top_hits)"
   ]
  },
  {
   "cell_type": "code",
   "execution_count": 12,
   "metadata": {},
   "outputs": [],
   "source": [
    "out_file = \"decade_output/Top_Hits.txt\""
   ]
  },
  {
   "cell_type": "code",
   "execution_count": 14,
   "metadata": {},
   "outputs": [],
   "source": [
    "with open (out_file,'w') as file: \n",
    "       file.write(str(top_hits))"
   ]
  },
  {
   "cell_type": "code",
   "execution_count": null,
   "metadata": {},
   "outputs": [],
   "source": []
  }
 ],
 "metadata": {
  "kernelspec": {
   "display_name": "Python 3",
   "language": "python",
   "name": "python3"
  },
  "language_info": {
   "codemirror_mode": {
    "name": "ipython",
    "version": 3
   },
   "file_extension": ".py",
   "mimetype": "text/x-python",
   "name": "python",
   "nbconvert_exporter": "python",
   "pygments_lexer": "ipython3",
   "version": "3.7.1"
  }
 },
 "nbformat": 4,
 "nbformat_minor": 2
}

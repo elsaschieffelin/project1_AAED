{
 "cells": [
  {
   "cell_type": "code",
   "execution_count": 55,
   "metadata": {},
   "outputs": [],
   "source": [
    "#Dependencies\n",
    "import pandas as pd\n",
    "import matplotlib.pyplot as plt\n",
    "import numpy as np\n",
    "import json\n",
    "from watson_developer_cloud import ToneAnalyzerV3\n",
    "import scipy as sci\n",
    "from functools import reduce"
   ]
  },
  {
   "cell_type": "code",
   "execution_count": 56,
   "metadata": {},
   "outputs": [],
   "source": [
    "#Read csv files\n",
    "csv_pathc = \"../lyrics_output/df_words_United_States_Top_50.csv\"\n",
    "csv_path1 = \"../lyrics_output/df_words_All_Out_10s.csv\"\n",
    "csv_path0 = \"../lyrics_output/df_words_All_Out_00s.csv\"\n",
    "csv_path9 = \"../lyrics_output/df_words_All_Out_90s.csv\"\n",
    "csv_path8 = \"../lyrics_output/df_words_All_Out_80s.csv\"\n",
    "csv_path7 = \"../lyrics_output/df_words_All_Out_70s.csv\"\n",
    "csv_path6 = \"../lyrics_output/df_words_All_Out_60s.csv\"\n",
    "csv_path5 = \"../lyrics_output/df_words_All_Out_50s.csv\""
   ]
  },
  {
   "cell_type": "code",
   "execution_count": 57,
   "metadata": {},
   "outputs": [],
   "source": [
    "#Create dataframes for each decade\n",
    "df_c = pd.read_csv(csv_pathc)\n",
    "df_10s = pd.read_csv(csv_path1)\n",
    "df_00s = pd.read_csv(csv_path0)\n",
    "df_90s = pd.read_csv(csv_path9)\n",
    "df_80s = pd.read_csv(csv_path8)\n",
    "df_70s = pd.read_csv(csv_path7)\n",
    "df_60s = pd.read_csv(csv_path6)\n",
    "df_50s = pd.read_csv(csv_path5)"
   ]
  },
  {
   "cell_type": "code",
   "execution_count": 58,
   "metadata": {
    "scrolled": true
   },
   "outputs": [],
   "source": [
    "#Read in the top 50 most commonly used English words (OEC standard)\n",
    "lines = list()\n",
    "fh = open(\"../top50_words.txt\")\n",
    "for line in fh:\n",
    "    line = line.rstrip()\n",
    "    lines.append(line)"
   ]
  },
  {
   "cell_type": "markdown",
   "metadata": {},
   "source": [
    "## US Top 50"
   ]
  },
  {
   "cell_type": "code",
   "execution_count": 59,
   "metadata": {},
   "outputs": [
    {
     "data": {
      "text/plain": [
       "17096"
      ]
     },
     "execution_count": 59,
     "metadata": {},
     "output_type": "execute_result"
    }
   ],
   "source": [
    "#Sorting and editing\n",
    "df_current = df_c.sort_values(\"count\", ascending = False)\n",
    "df_current = df_current.rename(columns = {\"Unnamed: 0\": \"words\"})\n",
    "\n",
    "#Remove the most common English words\n",
    "dfu=df_current[~df_current['words'].isin(lines)]\n",
    "dfu.sort_values('count',ascending=False)\n",
    "dfu['count'].sum()"
   ]
  },
  {
   "cell_type": "markdown",
   "metadata": {},
   "source": [
    "## Top 10s"
   ]
  },
  {
   "cell_type": "code",
   "execution_count": 60,
   "metadata": {},
   "outputs": [],
   "source": [
    "#Sorting and editing\n",
    "df_10s=df_10s.sort_values(\"count\", ascending = False)\n",
    "df_10s = df_10s.rename(columns={\"Unnamed: 0\": \"words\"})\n",
    "\n",
    "#Remove most common English words\n",
    "df1=df_10s[~df_10s['words'].isin(lines)]"
   ]
  },
  {
   "cell_type": "markdown",
   "metadata": {},
   "source": [
    "## Top 00s"
   ]
  },
  {
   "cell_type": "code",
   "execution_count": 61,
   "metadata": {},
   "outputs": [],
   "source": [
    "#Sorting and editing\n",
    "df_00s = df_00s.sort_values(\"count\", ascending = False)\n",
    "df_00s = df_00s.rename(columns = {\"Unnamed: 0\": \"words\"})\n",
    "\n",
    "#Remove most common English words\n",
    "df0=df_00s[~df_00s['words'].isin(lines)]"
   ]
  },
  {
   "cell_type": "markdown",
   "metadata": {},
   "source": [
    "## Top 90s"
   ]
  },
  {
   "cell_type": "code",
   "execution_count": 62,
   "metadata": {},
   "outputs": [],
   "source": [
    "#Sorting and editing\n",
    "df_90s = df_90s.sort_values(\"count\", ascending = False)\n",
    "df_90s = df_90s.rename(columns = {\"Unnamed: 0\": \"words\"})\n",
    "\n",
    "#Remove most common English words\n",
    "df9=df_90s[~df_90s['words'].isin(lines)]"
   ]
  },
  {
   "cell_type": "markdown",
   "metadata": {},
   "source": [
    "## Top 80s"
   ]
  },
  {
   "cell_type": "code",
   "execution_count": 63,
   "metadata": {},
   "outputs": [],
   "source": [
    "#Sorting and editing\n",
    "df_80s = df_80s.sort_values(\"count\", ascending = False)\n",
    "df_80s = df_80s.rename(columns = {\"Unnamed: 0\": \"words\"})\n",
    "\n",
    "#Remove most common English words\n",
    "df8=df_80s[~df_80s['words'].isin(lines)]"
   ]
  },
  {
   "cell_type": "markdown",
   "metadata": {},
   "source": [
    "## Top 70s"
   ]
  },
  {
   "cell_type": "code",
   "execution_count": 64,
   "metadata": {},
   "outputs": [],
   "source": [
    "#Sorting and editing\n",
    "df_70s = df_70s.sort_values(\"count\", ascending = False)\n",
    "df_70s = df_70s.rename(columns = {\"Unnamed: 0\": \"words\"})\n",
    "\n",
    "#Remove most common English words\n",
    "df7=df_70s[~df_70s['words'].isin(lines)]"
   ]
  },
  {
   "cell_type": "markdown",
   "metadata": {},
   "source": [
    "## Top 60s"
   ]
  },
  {
   "cell_type": "code",
   "execution_count": 65,
   "metadata": {},
   "outputs": [],
   "source": [
    "#Sorting and editing\n",
    "df_60s = df_60s.sort_values(\"count\", ascending = False)\n",
    "df_60s = df_60s.rename(columns = {\"Unnamed: 0\": \"words\"})\n",
    "\n",
    "#Remove most common English words\n",
    "df6=df_60s[~df_60s['words'].isin(lines)]"
   ]
  },
  {
   "cell_type": "markdown",
   "metadata": {},
   "source": [
    "## Top 50s"
   ]
  },
  {
   "cell_type": "code",
   "execution_count": 66,
   "metadata": {},
   "outputs": [],
   "source": [
    "#Sorting and editing\n",
    "df_50s = df_50s.sort_values(\"count\", ascending = False)\n",
    "df_50s = df_50s.rename(columns = {\"Unnamed: 0\": \"words\"})\n",
    "\n",
    "#Remove most common English words\n",
    "df5=df_50s[~df_50s['words'].isin(lines)]"
   ]
  },
  {
   "cell_type": "code",
   "execution_count": 98,
   "metadata": {},
   "outputs": [
    {
     "data": {
      "text/plain": [
       "'words'"
      ]
     },
     "execution_count": 98,
     "metadata": {},
     "output_type": "execute_result"
    }
   ],
   "source": [
    "dfs=[df5,df6,df7,df8,df9,df0,df1,dfu]\n",
    "mdf=reduce(lambda left,right: pd.merge(left,right,on=['words'],how='outer'), dfs)\n",
    "cols=['words','50s','60s','70s','80s','90s','00s','10s','US']\n",
    "mdf.columns=cols\n",
    "sum50=mdf['50s'].sum()\n"
   ]
  },
  {
   "cell_type": "code",
   "execution_count": 117,
   "metadata": {},
   "outputs": [
    {
     "data": {
      "text/html": [
       "<div>\n",
       "<style scoped>\n",
       "    .dataframe tbody tr th:only-of-type {\n",
       "        vertical-align: middle;\n",
       "    }\n",
       "\n",
       "    .dataframe tbody tr th {\n",
       "        vertical-align: top;\n",
       "    }\n",
       "\n",
       "    .dataframe thead th {\n",
       "        text-align: right;\n",
       "    }\n",
       "</style>\n",
       "<table border=\"1\" class=\"dataframe\">\n",
       "  <thead>\n",
       "    <tr style=\"text-align: right;\">\n",
       "      <th></th>\n",
       "      <th>0</th>\n",
       "      <th>1</th>\n",
       "    </tr>\n",
       "  </thead>\n",
       "  <tbody>\n",
       "    <tr>\n",
       "      <th>0</th>\n",
       "      <td>50s</td>\n",
       "      <td>2935.0</td>\n",
       "    </tr>\n",
       "    <tr>\n",
       "      <th>1</th>\n",
       "      <td>60s</td>\n",
       "      <td>5144.0</td>\n",
       "    </tr>\n",
       "    <tr>\n",
       "      <th>2</th>\n",
       "      <td>70s</td>\n",
       "      <td>9246.0</td>\n",
       "    </tr>\n",
       "    <tr>\n",
       "      <th>3</th>\n",
       "      <td>80s</td>\n",
       "      <td>8572.0</td>\n",
       "    </tr>\n",
       "    <tr>\n",
       "      <th>4</th>\n",
       "      <td>90s</td>\n",
       "      <td>14660.0</td>\n",
       "    </tr>\n",
       "    <tr>\n",
       "      <th>5</th>\n",
       "      <td>00s</td>\n",
       "      <td>16146.0</td>\n",
       "    </tr>\n",
       "    <tr>\n",
       "      <th>6</th>\n",
       "      <td>10s</td>\n",
       "      <td>13793.0</td>\n",
       "    </tr>\n",
       "    <tr>\n",
       "      <th>7</th>\n",
       "      <td>US</td>\n",
       "      <td>17096.0</td>\n",
       "    </tr>\n",
       "  </tbody>\n",
       "</table>\n",
       "</div>"
      ],
      "text/plain": [
       "     0        1\n",
       "0  50s   2935.0\n",
       "1  60s   5144.0\n",
       "2  70s   9246.0\n",
       "3  80s   8572.0\n",
       "4  90s  14660.0\n",
       "5  00s  16146.0\n",
       "6  10s  13793.0\n",
       "7   US  17096.0"
      ]
     },
     "execution_count": 117,
     "metadata": {},
     "output_type": "execute_result"
    }
   ],
   "source": [
    "x=0\n",
    "sums=[]\n",
    "for x in range(1,9):\n",
    "    bill=cols[x]\n",
    "    bum=mdf[bill].sum()\n",
    "    sums.append(bum)\n",
    "    x+=1\n",
    "sums\n",
    "pd.DataFrame(list(zip(cols[1:9],sums)))"
   ]
  },
  {
   "cell_type": "code",
   "execution_count": 113,
   "metadata": {},
   "outputs": [
    {
     "data": {
      "text/plain": [
       "[2935.0, 5144.0, 9246.0, 8572.0, 14660.0, 16146.0, 13793.0, 17096.0]"
      ]
     },
     "execution_count": 113,
     "metadata": {},
     "output_type": "execute_result"
    }
   ],
   "source": [
    "sums"
   ]
  },
  {
   "cell_type": "code",
   "execution_count": null,
   "metadata": {},
   "outputs": [],
   "source": []
  }
 ],
 "metadata": {
  "kernelspec": {
   "display_name": "Python 3",
   "language": "python",
   "name": "python3"
  },
  "language_info": {
   "codemirror_mode": {
    "name": "ipython",
    "version": 3
   },
   "file_extension": ".py",
   "mimetype": "text/x-python",
   "name": "python",
   "nbconvert_exporter": "python",
   "pygments_lexer": "ipython3",
   "version": "3.7.1"
  }
 },
 "nbformat": 4,
 "nbformat_minor": 2
}

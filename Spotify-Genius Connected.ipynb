{
 "cells": [
  {
   "cell_type": "code",
   "execution_count": 1,
   "metadata": {},
   "outputs": [
    {
     "ename": "SpotifyOauthError",
     "evalue": "Bad Request",
     "output_type": "error",
     "traceback": [
      "\u001b[0;31m---------------------------------------------------------------------------\u001b[0m",
      "\u001b[0;31mSpotifyOauthError\u001b[0m                         Traceback (most recent call last)",
      "\u001b[0;32m<ipython-input-1-831df88b8516>\u001b[0m in \u001b[0;36m<module>\u001b[0;34m\u001b[0m\n\u001b[1;32m     62\u001b[0m        client_secret=CLIENT_SECRET)\n\u001b[1;32m     63\u001b[0m \u001b[0;34m\u001b[0m\u001b[0m\n\u001b[0;32m---> 64\u001b[0;31m \u001b[0mtoken\u001b[0m \u001b[0;34m=\u001b[0m \u001b[0mcredentials\u001b[0m\u001b[0;34m.\u001b[0m\u001b[0mget_access_token\u001b[0m\u001b[0;34m(\u001b[0m\u001b[0;34m)\u001b[0m\u001b[0;34m\u001b[0m\u001b[0;34m\u001b[0m\u001b[0m\n\u001b[0m\u001b[1;32m     65\u001b[0m \u001b[0mspotify\u001b[0m \u001b[0;34m=\u001b[0m \u001b[0mspotipy\u001b[0m\u001b[0;34m.\u001b[0m\u001b[0mSpotify\u001b[0m\u001b[0;34m(\u001b[0m\u001b[0mauth\u001b[0m\u001b[0;34m=\u001b[0m\u001b[0mtoken\u001b[0m\u001b[0;34m)\u001b[0m\u001b[0;34m\u001b[0m\u001b[0;34m\u001b[0m\u001b[0m\n\u001b[1;32m     66\u001b[0m \u001b[0;34m\u001b[0m\u001b[0m\n",
      "\u001b[0;32m~/anaconda3/lib/python3.7/site-packages/spotipy/oauth2.py\u001b[0m in \u001b[0;36mget_access_token\u001b[0;34m(self)\u001b[0m\n\u001b[1;32m     55\u001b[0m             \u001b[0;32mreturn\u001b[0m \u001b[0mself\u001b[0m\u001b[0;34m.\u001b[0m\u001b[0mtoken_info\u001b[0m\u001b[0;34m[\u001b[0m\u001b[0;34m'access_token'\u001b[0m\u001b[0;34m]\u001b[0m\u001b[0;34m\u001b[0m\u001b[0;34m\u001b[0m\u001b[0m\n\u001b[1;32m     56\u001b[0m \u001b[0;34m\u001b[0m\u001b[0m\n\u001b[0;32m---> 57\u001b[0;31m         \u001b[0mtoken_info\u001b[0m \u001b[0;34m=\u001b[0m \u001b[0mself\u001b[0m\u001b[0;34m.\u001b[0m\u001b[0m_request_access_token\u001b[0m\u001b[0;34m(\u001b[0m\u001b[0;34m)\u001b[0m\u001b[0;34m\u001b[0m\u001b[0;34m\u001b[0m\u001b[0m\n\u001b[0m\u001b[1;32m     58\u001b[0m         \u001b[0mtoken_info\u001b[0m \u001b[0;34m=\u001b[0m \u001b[0mself\u001b[0m\u001b[0;34m.\u001b[0m\u001b[0m_add_custom_values_to_token_info\u001b[0m\u001b[0;34m(\u001b[0m\u001b[0mtoken_info\u001b[0m\u001b[0;34m)\u001b[0m\u001b[0;34m\u001b[0m\u001b[0;34m\u001b[0m\u001b[0m\n\u001b[1;32m     59\u001b[0m         \u001b[0mself\u001b[0m\u001b[0;34m.\u001b[0m\u001b[0mtoken_info\u001b[0m \u001b[0;34m=\u001b[0m \u001b[0mtoken_info\u001b[0m\u001b[0;34m\u001b[0m\u001b[0;34m\u001b[0m\u001b[0m\n",
      "\u001b[0;32m~/anaconda3/lib/python3.7/site-packages/spotipy/oauth2.py\u001b[0m in \u001b[0;36m_request_access_token\u001b[0;34m(self)\u001b[0m\n\u001b[1;32m     74\u001b[0m             headers=headers, verify=True, proxies=self.proxies)\n\u001b[1;32m     75\u001b[0m         \u001b[0;32mif\u001b[0m \u001b[0mresponse\u001b[0m\u001b[0;34m.\u001b[0m\u001b[0mstatus_code\u001b[0m \u001b[0;32mis\u001b[0m \u001b[0;32mnot\u001b[0m \u001b[0;36m200\u001b[0m\u001b[0;34m:\u001b[0m\u001b[0;34m\u001b[0m\u001b[0;34m\u001b[0m\u001b[0m\n\u001b[0;32m---> 76\u001b[0;31m             \u001b[0;32mraise\u001b[0m \u001b[0mSpotifyOauthError\u001b[0m\u001b[0;34m(\u001b[0m\u001b[0mresponse\u001b[0m\u001b[0;34m.\u001b[0m\u001b[0mreason\u001b[0m\u001b[0;34m)\u001b[0m\u001b[0;34m\u001b[0m\u001b[0;34m\u001b[0m\u001b[0m\n\u001b[0m\u001b[1;32m     77\u001b[0m         \u001b[0mtoken_info\u001b[0m \u001b[0;34m=\u001b[0m \u001b[0mresponse\u001b[0m\u001b[0;34m.\u001b[0m\u001b[0mjson\u001b[0m\u001b[0;34m(\u001b[0m\u001b[0;34m)\u001b[0m\u001b[0;34m\u001b[0m\u001b[0;34m\u001b[0m\u001b[0m\n\u001b[1;32m     78\u001b[0m         \u001b[0;32mreturn\u001b[0m \u001b[0mtoken_info\u001b[0m\u001b[0;34m\u001b[0m\u001b[0;34m\u001b[0m\u001b[0m\n",
      "\u001b[0;31mSpotifyOauthError\u001b[0m: Bad Request"
     ]
    }
   ],
   "source": [
    "import spotipy\n",
    "import pandas as pd\n",
    "from pprint import pprint\n",
    "import spotipy.util as util\n",
    "from spotipy.oauth2 import SpotifyClientCredentials\n",
    "import requests\n",
    "import spotipy.oauth2 as oauth2\n",
    "from bs4 import BeautifulSoup\n",
    "\n",
    "def request_song_info(song_title, artist_name):\n",
    "    main_url = 'https://api.genius.com/search'\n",
    "    headers = {'Authorization': 'Bearer ' + api_key}\n",
    "    data = {'q': song_title + ' ' + artist_name}\n",
    "    response = requests.get(main_url, data=data, headers=headers)\n",
    "\n",
    "    return response\n",
    "\n",
    "def get_song_lyrics(url):\n",
    "    page = requests.get(url)\n",
    "    html = BeautifulSoup(page.text, 'html.parser')\n",
    "    lyrics = html.find('div', class_='lyrics').get_text()\n",
    "\n",
    "    return lyrics\n",
    "\n",
    "# def word_count(str):\n",
    "#     counts = dict()\n",
    "#     words = str.split()\n",
    "\n",
    "#     for word in words:\n",
    "#         if word in counts:\n",
    "#             counts[word] += 1\n",
    "#         else:\n",
    "#             counts[word] = 1\n",
    "\n",
    "#     return counts\n",
    "\n",
    "def numList(list):\n",
    "        dic = {}\n",
    "        for num in list:\n",
    "            if num in dic.keys():\n",
    "                dic[num] += 1\n",
    "            else:       \n",
    "                key = num\n",
    "                value = 1\n",
    "                dic[key] = value\n",
    "        return dic\n",
    "\n",
    "playlist_top=\"United States Top 50\"\n",
    "playlist_50=\"All Out 50s\"\n",
    "playlist_60=\"All Out 60s\"\n",
    "playlist_70=\"All Out 70s\"\n",
    "playlist_80=\"All Out 80s\"\n",
    "playlist_90=\"All Out 90s\"\n",
    "playlist_00=\"All Out 00s\"\n",
    "playlist_10=\"All Out 10s\"\n",
    "\n",
    "CLIENT_ID = \"   \"\n",
    "CLIENT_SECRET = \"   \"\n",
    "\n",
    "credentials = oauth2.SpotifyClientCredentials(\n",
    "       client_id=CLIENT_ID,\n",
    "       client_secret=CLIENT_SECRET)\n",
    "\n",
    "token = credentials.get_access_token()\n",
    "spotify = spotipy.Spotify(auth=token)\n",
    "\n",
    "\n",
    "song_titles_list =[]\n",
    "artist_names_list=[]\n",
    "list_of_ids=[]\n",
    "\n",
    "\n",
    "sp = spotipy.Spotify(auth=token)\n",
    "results = sp.search(q=playlist_top, limit=50,type='playlist')\n"
   ]
  },
  {
   "cell_type": "code",
   "execution_count": null,
   "metadata": {},
   "outputs": [],
   "source": [
    "\n",
    "for playlist in results['playlists']['items']:\n",
    "    results = sp.user_playlist(playlist['owner']['id'], playlist['id'], fields=\"tracks,next\")\n",
    "    tracks = results['tracks']\n",
    "    artist_name= tracks['items'][0]['track']['album']['artists'][0]['name']\n",
    "    song_title= tracks['items'][0]['track']['name']\n",
    "    id_of_song=tracks['items'][0]['track']['album']['artists'][0]['id']\n",
    "    if id_of_song not in list_of_ids:\n",
    "        artist_names_list.append(artist_name)\n",
    "        song_titles_list.append(song_title)\n",
    "        list_of_ids.append(id_of_song)\n",
    "    else:\n",
    "        continue\n"
   ]
  },
  {
   "cell_type": "code",
   "execution_count": null,
   "metadata": {},
   "outputs": [],
   "source": [
    "tracks_top = {key:value for key, value in zip(song_titles_list,artist_names_list)}"
   ]
  },
  {
   "cell_type": "code",
   "execution_count": null,
   "metadata": {},
   "outputs": [],
   "source": [
    "genius_api_key = \"    \"\n"
   ]
  },
  {
   "cell_type": "code",
   "execution_count": null,
   "metadata": {},
   "outputs": [],
   "source": [
    "x=0\n",
    "words_collected=[]\n",
    "for item in tracks_top:\n",
    "    song_title=tracks_top[x]['song_title'].lower()\n",
    "    artist_name=tracks_top[x]['artist_name'].lower()\n",
    "    request_song_info(song_title, artist_name).text\n",
    "\n",
    "    response = request_song_info(song_title, artist_name)\n",
    "    data = response.json()\n",
    "    remote_song_info = None\n",
    "\n",
    "    for hit in data['response']['hits']:\n",
    "        if artist_name.lower() in hit['result']['primary_artist']['name'].lower():\n",
    "            remote_song_info = hit\n",
    "            break\n",
    "\n",
    "    if remote_song_info:\n",
    "        song_url = remote_song_info['result']['url']\n",
    "        \n",
    "        clean_lyrics=get_song_lyrics(song_url).replace(\"\\n\",\" \")\n",
    "        clean_lyrics=clean_lyrics.replace(\"[\",\"\")\n",
    "        clean_lyrics=clean_lyrics.replace(\"]\",\"\")\n",
    "        clean_lyrics=clean_lyrics.replace(\":\",\"\")\n",
    "        clean_lyrics=clean_lyrics.replace(\"  \",\" \")\n",
    "        clean_lyrics=clean_lyrics.replace(\"(\",\"\")\n",
    "        clean_lyrics=clean_lyrics.replace(\")\",\"\")\n",
    "        clean_lyrics=clean_lyrics.replace(\"&\",\"\")\n",
    "        clean_lyrics=clean_lyrics.replace(\",\",\"\")\n",
    "        clean_lyrics=clean_lyrics.replace(\"\\ \",\"\")\n",
    "        clean_lyrics=clean_lyrics.replace(\"\\'\",\"'\")\n",
    "        clean_lyrics=clean_lyrics.lower()\n",
    "        words_collected.append(clean_lyrics)\n",
    "        \n",
    "    x+=1"
   ]
  },
  {
   "cell_type": "code",
   "execution_count": null,
   "metadata": {},
   "outputs": [],
   "source": [
    "y=0\n",
    "sep_words=[]\n",
    "for item in words_collected:\n",
    "    \n",
    "    sep=item.split()\n",
    "    sep_words.append(sep)\n",
    "    y+=1"
   ]
  },
  {
   "cell_type": "code",
   "execution_count": null,
   "metadata": {},
   "outputs": [],
   "source": [
    "full_list=[]\n",
    "for lyrics_song in sep_words:\n",
    "    for item in lyrics_song:\n",
    "        full_list.append(item)"
   ]
  },
  {
   "cell_type": "code",
   "execution_count": null,
   "metadata": {},
   "outputs": [],
   "source": [
    "full_list=numList(full_list)"
   ]
  },
  {
   "cell_type": "code",
   "execution_count": null,
   "metadata": {},
   "outputs": [],
   "source": [
    "df_words=pd.DataFrame(full_list, index=[\"count\"]).T"
   ]
  },
  {
   "cell_type": "code",
   "execution_count": null,
   "metadata": {},
   "outputs": [],
   "source": [
    "df_words"
   ]
  }
 ],
 "metadata": {
  "kernelspec": {
   "display_name": "Python 3",
   "language": "python",
   "name": "python3"
  },
  "language_info": {
   "codemirror_mode": {
    "name": "ipython",
    "version": 3
   },
   "file_extension": ".py",
   "mimetype": "text/x-python",
   "name": "python",
   "nbconvert_exporter": "python",
   "pygments_lexer": "ipython3",
   "version": "3.7.1"
  }
 },
 "nbformat": 4,
 "nbformat_minor": 2
}

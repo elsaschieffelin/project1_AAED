{
 "cells": [
  {
   "cell_type": "code",
   "execution_count": 1,
   "metadata": {},
   "outputs": [],
   "source": [
    "import pandas as pd\n",
    "import requests\n",
    "import json\n",
    "from pprint import pprint\n",
    "import spotipy\n",
    "import spotipy.util as util\n",
    "from spotipy.oauth2 import SpotifyClientCredentials\n",
    "import spotipy.oauth2 as oauth2\n",
    "from config import spotify_elsa_id\n",
    "from config import spotify_elsa_secret"
   ]
  },
  {
   "cell_type": "code",
   "execution_count": 2,
   "metadata": {},
   "outputs": [],
   "source": [
    "market = [\"US\"]\n",
    "client_id = spotify_elsa_id\n",
    "secret_id = spotify_elsa_secret\n",
    "\n",
    "credentials = oauth2.SpotifyClientCredentials(\n",
    "       client_id=client_id,\n",
    "       client_secret=secret_id)\n",
    "\n"
   ]
  },
  {
   "cell_type": "code",
   "execution_count": 3,
   "metadata": {},
   "outputs": [],
   "source": [
    "token = credentials.get_access_token()\n",
    "spotify = spotipy.Spotify(auth=token)\n",
    "sp = spotipy.Spotify(auth=token)"
   ]
  },
  {
   "cell_type": "markdown",
   "metadata": {},
   "source": [
    "# 1950s"
   ]
  },
  {
   "cell_type": "code",
   "execution_count": 4,
   "metadata": {},
   "outputs": [],
   "source": [
    "playlist=\"All Out 50s\"\n",
    "offset_value=0\n",
    "artist_name=[]\n",
    "song_title=[]\n",
    "ids = []"
   ]
  },
  {
   "cell_type": "code",
   "execution_count": 5,
   "metadata": {},
   "outputs": [
    {
     "name": "stdout",
     "output_type": "stream",
     "text": [
      "You've saved 67 songs in All Out 50s Playlist\n"
     ]
    }
   ],
   "source": [
    "def call_playlists (offset_value):\n",
    "    playlists=spotify.user_playlist_tracks(user=\"spotify\",playlist_id=\"37i9dQZF1DWSV3Tk4GO2fq\", offset=offset_value, limit=None)\n",
    "    return playlists\n",
    "\n",
    "playlist_len = 75\n",
    "\n",
    "x=0\n",
    "    \n",
    "try:\n",
    "    while len(artist_name) <= playlist_len:\n",
    "        offset_value=0\n",
    "        playlists=call_playlists(offset_value)\n",
    "        artist=playlists[\"items\"][x]['track']['artists'][0]['name']\n",
    "        song=playlists[\"items\"][x]['track']['album']['name']\n",
    "        song_id=playlists[\"items\"][x][\"track\"][\"album\"][\"id\"]\n",
    "        if song_id not in ids:\n",
    "            artist_name.append(artist)\n",
    "            song_title.append(song)\n",
    "            ids.append(song_id)\n",
    "        x+=1\n",
    "        offset_value+=7\n",
    "        call_playlists(offset_value)\n",
    "except IndexError:\n",
    "    print(f\"You've saved {len(artist_name)} songs in {playlist} Playlist\")\n"
   ]
  },
  {
   "cell_type": "code",
   "execution_count": 6,
   "metadata": {},
   "outputs": [
    {
     "name": "stdout",
     "output_type": "stream",
     "text": [
      "68\n",
      "68\n",
      "68\n"
     ]
    }
   ],
   "source": [
    "print(len(artist_name))\n",
    "print(len(song_title))\n",
    "print(len(ids))"
   ]
  },
  {
   "cell_type": "code",
   "execution_count": 7,
   "metadata": {},
   "outputs": [],
   "source": [
    "df = pd.DataFrame({\"song_title\":song_title, \"artist_name\": artist_name, \"ids\": ids})"
   ]
  },
  {
   "cell_type": "markdown",
   "metadata": {},
   "source": [
    "EXPORT DATA"
   ]
  },
  {
   "cell_type": "code",
   "execution_count": 8,
   "metadata": {},
   "outputs": [],
   "source": [
    "output_data = \"decade_output/1950s.csv\""
   ]
  },
  {
   "cell_type": "code",
   "execution_count": 9,
   "metadata": {},
   "outputs": [],
   "source": [
    "df.to_csv(output_data)"
   ]
  },
  {
   "cell_type": "markdown",
   "metadata": {},
   "source": [
    "# 1960s"
   ]
  },
  {
   "cell_type": "code",
   "execution_count": 10,
   "metadata": {},
   "outputs": [],
   "source": [
    "playlist=\"All Out 60s\"\n",
    "playlist_id= \"37i9dQZF1DXaKIA8E7WcJj\"\n",
    "user= \"spotify\"\n",
    "playlist_len=97\n",
    "offset_value=0\n",
    "artist_name=[]\n",
    "song_title=[]\n",
    "ids = []"
   ]
  },
  {
   "cell_type": "code",
   "execution_count": 11,
   "metadata": {},
   "outputs": [
    {
     "name": "stdout",
     "output_type": "stream",
     "text": [
      "You've saved 91 songs in All Out 60s Playlist\n"
     ]
    }
   ],
   "source": [
    "def call_playlists (offset_value):\n",
    "    playlists=spotify.user_playlist_tracks(user=user,playlist_id=playlist_id, offset=offset_value, limit=None)\n",
    "    return playlists\n",
    "\n",
    "playlist_len = playlist_len\n",
    "\n",
    "x=0\n",
    "    \n",
    "try:\n",
    "    while len(artist_name) <= playlist_len:\n",
    "        offset_value=0\n",
    "        playlists=call_playlists(offset_value)\n",
    "        artist=playlists[\"items\"][x]['track']['artists'][0]['name']\n",
    "        song=playlists[\"items\"][x]['track']['album']['name']\n",
    "        song_id=playlists[\"items\"][x][\"track\"][\"album\"][\"id\"]\n",
    "        if song_id not in ids:\n",
    "            artist_name.append(artist)\n",
    "            song_title.append(song)\n",
    "            ids.append(song_id)\n",
    "        x+=1\n",
    "        offset_value+=7\n",
    "        call_playlists(offset_value)\n",
    "except IndexError:\n",
    "    print(f\"You've saved {len(artist_name)} songs in {playlist} Playlist\")\n"
   ]
  },
  {
   "cell_type": "code",
   "execution_count": 12,
   "metadata": {},
   "outputs": [],
   "source": [
    "df = pd.DataFrame({\"song_title\":song_title, \"artist_name\": artist_name, \"ids\": ids})"
   ]
  },
  {
   "cell_type": "code",
   "execution_count": 13,
   "metadata": {},
   "outputs": [],
   "source": [
    "output_data = \"decade_output/1960s.csv\""
   ]
  },
  {
   "cell_type": "code",
   "execution_count": 14,
   "metadata": {},
   "outputs": [],
   "source": [
    "df.to_csv(output_data)"
   ]
  },
  {
   "cell_type": "markdown",
   "metadata": {},
   "source": [
    "# 1970s"
   ]
  },
  {
   "cell_type": "code",
   "execution_count": 15,
   "metadata": {},
   "outputs": [],
   "source": [
    "playlist=\"All Out 70s\"\n",
    "playlist_id= \"37i9dQZF1DWTJ7xPn4vNaz\"\n",
    "user= \"spotify\"\n",
    "playlist_len=104\n",
    "offset_value=0\n",
    "artist_name=[]\n",
    "song_title=[]\n",
    "ids = []"
   ]
  },
  {
   "cell_type": "code",
   "execution_count": 16,
   "metadata": {},
   "outputs": [
    {
     "name": "stdout",
     "output_type": "stream",
     "text": [
      "You've saved 93 songs in All Out 70s Playlist\n"
     ]
    }
   ],
   "source": [
    "def call_playlists (offset_value):\n",
    "    playlists=spotify.user_playlist_tracks(user=user,playlist_id=playlist_id, offset=offset_value, limit=None)\n",
    "    return playlists\n",
    "\n",
    "playlist_len = playlist_len\n",
    "\n",
    "x=0\n",
    "    \n",
    "try:\n",
    "    while len(artist_name) <= playlist_len:\n",
    "        offset_value=0\n",
    "        playlists=call_playlists(offset_value)\n",
    "        artist=playlists[\"items\"][x]['track']['artists'][0]['name']\n",
    "        song=playlists[\"items\"][x]['track']['album']['name']\n",
    "        song_id=playlists[\"items\"][x][\"track\"][\"album\"][\"id\"]\n",
    "        if song_id not in ids:\n",
    "            artist_name.append(artist)\n",
    "            song_title.append(song)\n",
    "            ids.append(song_id)\n",
    "        x+=1\n",
    "        offset_value+=7\n",
    "        call_playlists(offset_value)\n",
    "except IndexError:\n",
    "    print(f\"You've saved {len(artist_name)} songs in {playlist} Playlist\")"
   ]
  },
  {
   "cell_type": "code",
   "execution_count": 17,
   "metadata": {},
   "outputs": [],
   "source": [
    "df = pd.DataFrame({\"song_title\":song_title, \"artist_name\": artist_name, \"ids\": ids})"
   ]
  },
  {
   "cell_type": "code",
   "execution_count": 18,
   "metadata": {},
   "outputs": [],
   "source": [
    "output_data = \"decade_output/1970s.csv\""
   ]
  },
  {
   "cell_type": "code",
   "execution_count": 19,
   "metadata": {},
   "outputs": [],
   "source": [
    "df.to_csv(output_data)"
   ]
  },
  {
   "cell_type": "markdown",
   "metadata": {},
   "source": [
    "# 1980s"
   ]
  },
  {
   "cell_type": "code",
   "execution_count": 20,
   "metadata": {},
   "outputs": [],
   "source": [
    "playlist=\"All Out 80s\"\n",
    "playlist_id= \"37i9dQZF1DX4UtSsGT1Sbe\"\n",
    "user= \"spotify\"\n",
    "playlist_len=101\n",
    "offset_value=0\n",
    "artist_name=[]\n",
    "song_title=[]\n",
    "ids = []"
   ]
  },
  {
   "cell_type": "code",
   "execution_count": 21,
   "metadata": {},
   "outputs": [
    {
     "name": "stdout",
     "output_type": "stream",
     "text": [
      "You've saved 97 songs in All Out 80s Playlist\n"
     ]
    }
   ],
   "source": [
    "def call_playlists (offset_value):\n",
    "    playlists=spotify.user_playlist_tracks(user=user,playlist_id=playlist_id, offset=offset_value, limit=None)\n",
    "    return playlists\n",
    "\n",
    "playlist_len = playlist_len\n",
    "\n",
    "x=0\n",
    "    \n",
    "try:\n",
    "    while len(artist_name) <= playlist_len:\n",
    "        offset_value=0\n",
    "        playlists=call_playlists(offset_value)\n",
    "        artist=playlists[\"items\"][x]['track']['artists'][0]['name']\n",
    "        song=playlists[\"items\"][x]['track']['album']['name']\n",
    "        song_id=playlists[\"items\"][x][\"track\"][\"album\"][\"id\"]\n",
    "        if song_id not in ids:\n",
    "            artist_name.append(artist)\n",
    "            song_title.append(song)\n",
    "            ids.append(song_id)\n",
    "        x+=1\n",
    "        offset_value+=7\n",
    "        call_playlists(offset_value)\n",
    "except IndexError:\n",
    "    print(f\"You've saved {len(artist_name)} songs in {playlist} Playlist\")"
   ]
  },
  {
   "cell_type": "code",
   "execution_count": 22,
   "metadata": {},
   "outputs": [],
   "source": [
    "df = pd.DataFrame({\"song_title\":song_title, \"artist_name\": artist_name, \"ids\": ids})"
   ]
  },
  {
   "cell_type": "code",
   "execution_count": 23,
   "metadata": {},
   "outputs": [],
   "source": [
    "output_data = \"decade_output/1980s.csv\""
   ]
  },
  {
   "cell_type": "code",
   "execution_count": 24,
   "metadata": {},
   "outputs": [],
   "source": [
    "df.to_csv(output_data)"
   ]
  },
  {
   "cell_type": "markdown",
   "metadata": {},
   "source": [
    "# 1990s"
   ]
  },
  {
   "cell_type": "code",
   "execution_count": 25,
   "metadata": {},
   "outputs": [],
   "source": [
    "playlist=\"All Out 90s\"\n",
    "playlist_id= \"37i9dQZF1DXbTxeAdrVG2l\"\n",
    "user= \"spotify\"\n",
    "playlist_len=91\n",
    "offset_value=0\n",
    "artist_name=[]\n",
    "song_title=[]\n",
    "ids = []"
   ]
  },
  {
   "cell_type": "code",
   "execution_count": 26,
   "metadata": {},
   "outputs": [
    {
     "name": "stdout",
     "output_type": "stream",
     "text": [
      "You've saved 82 songs in All Out 90s Playlist\n"
     ]
    }
   ],
   "source": [
    "def call_playlists (offset_value):\n",
    "    playlists=spotify.user_playlist_tracks(user=user,playlist_id=playlist_id, offset=offset_value, limit=None)\n",
    "    return playlists\n",
    "\n",
    "playlist_len = playlist_len\n",
    "\n",
    "x=0\n",
    "    \n",
    "try:\n",
    "    while len(artist_name) <= playlist_len:\n",
    "        offset_value=0\n",
    "        playlists=call_playlists(offset_value)\n",
    "        artist=playlists[\"items\"][x]['track']['artists'][0]['name']\n",
    "        song=playlists[\"items\"][x]['track']['album']['name']\n",
    "        song_id=playlists[\"items\"][x][\"track\"][\"album\"][\"id\"]\n",
    "        if song_id not in ids:\n",
    "            artist_name.append(artist)\n",
    "            song_title.append(song)\n",
    "            ids.append(song_id)\n",
    "        x+=1\n",
    "        offset_value+=7\n",
    "        call_playlists(offset_value)\n",
    "except IndexError:\n",
    "    print(f\"You've saved {len(artist_name)} songs in {playlist} Playlist\")"
   ]
  },
  {
   "cell_type": "code",
   "execution_count": 27,
   "metadata": {},
   "outputs": [],
   "source": [
    "df = pd.DataFrame({\"song_title\":song_title, \"artist_name\": artist_name, \"ids\": ids})"
   ]
  },
  {
   "cell_type": "code",
   "execution_count": 28,
   "metadata": {},
   "outputs": [],
   "source": [
    "output_data = \"decade_output/1990s.csv\""
   ]
  },
  {
   "cell_type": "code",
   "execution_count": 29,
   "metadata": {},
   "outputs": [],
   "source": [
    "df.to_csv(output_data)"
   ]
  },
  {
   "cell_type": "markdown",
   "metadata": {},
   "source": [
    "# 2000s"
   ]
  },
  {
   "cell_type": "code",
   "execution_count": 30,
   "metadata": {},
   "outputs": [],
   "source": [
    "playlist=\"All Out 00s\"\n",
    "playlist_id= \"37i9dQZF1DX4o1oenSJRJd\"\n",
    "user= \"spotify\"\n",
    "playlist_len=100\n",
    "offset_value=0\n",
    "artist_name=[]\n",
    "song_title=[]\n",
    "ids = []"
   ]
  },
  {
   "cell_type": "code",
   "execution_count": 31,
   "metadata": {},
   "outputs": [
    {
     "name": "stdout",
     "output_type": "stream",
     "text": [
      "You've saved 88 songs in All Out 00s Playlist\n"
     ]
    }
   ],
   "source": [
    "def call_playlists (offset_value):\n",
    "    playlists=spotify.user_playlist_tracks(user=user,playlist_id=playlist_id, offset=offset_value, limit=None)\n",
    "    return playlists\n",
    "\n",
    "playlist_len = playlist_len\n",
    "\n",
    "x=0\n",
    "    \n",
    "try:\n",
    "    while len(artist_name) <= playlist_len:\n",
    "        offset_value=0\n",
    "        playlists=call_playlists(offset_value)\n",
    "        artist=playlists[\"items\"][x]['track']['artists'][0]['name']\n",
    "        song=playlists[\"items\"][x]['track']['album']['name']\n",
    "        song_id=playlists[\"items\"][x][\"track\"][\"album\"][\"id\"]\n",
    "        if song_id not in ids:\n",
    "            artist_name.append(artist)\n",
    "            song_title.append(song)\n",
    "            ids.append(song_id)\n",
    "        x+=1\n",
    "        offset_value+=7\n",
    "        call_playlists(offset_value)\n",
    "except IndexError:\n",
    "    print(f\"You've saved {len(artist_name)} songs in {playlist} Playlist\")"
   ]
  },
  {
   "cell_type": "code",
   "execution_count": 32,
   "metadata": {},
   "outputs": [],
   "source": [
    "df = pd.DataFrame({\"song_title\":song_title, \"artist_name\": artist_name, \"ids\": ids})"
   ]
  },
  {
   "cell_type": "code",
   "execution_count": 33,
   "metadata": {},
   "outputs": [],
   "source": [
    "output_data = \"decade_output/2000s.csv\""
   ]
  },
  {
   "cell_type": "code",
   "execution_count": 34,
   "metadata": {},
   "outputs": [],
   "source": [
    "df.to_csv(output_data)"
   ]
  },
  {
   "cell_type": "markdown",
   "metadata": {},
   "source": [
    "# 2010s"
   ]
  },
  {
   "cell_type": "code",
   "execution_count": 35,
   "metadata": {},
   "outputs": [],
   "source": [
    "playlist=\"All Out 10s\"\n",
    "playlist_id= \"37i9dQZF1DX5Ejj0EkURtP\"\n",
    "user= \"spotify\"\n",
    "playlist_len=99\n",
    "offset_value=0\n",
    "artist_name=[]\n",
    "song_title=[]\n",
    "ids = []"
   ]
  },
  {
   "cell_type": "code",
   "execution_count": 36,
   "metadata": {},
   "outputs": [
    {
     "name": "stdout",
     "output_type": "stream",
     "text": [
      "You've saved 88 songs in All Out 10s Playlist\n"
     ]
    }
   ],
   "source": [
    "def call_playlists (offset_value):\n",
    "    playlists=spotify.user_playlist_tracks(user=user,playlist_id=playlist_id, offset=offset_value, limit=None)\n",
    "    return playlists\n",
    "\n",
    "playlist_len = playlist_len\n",
    "\n",
    "x=0\n",
    "    \n",
    "try:\n",
    "    while len(artist_name) <= playlist_len:\n",
    "        offset_value=0\n",
    "        playlists=call_playlists(offset_value)\n",
    "        artist=playlists[\"items\"][x]['track']['artists'][0]['name']\n",
    "        song=playlists[\"items\"][x]['track']['album']['name']\n",
    "        song_id=playlists[\"items\"][x][\"track\"][\"album\"][\"id\"]\n",
    "        if song_id not in ids:\n",
    "            artist_name.append(artist)\n",
    "            song_title.append(song)\n",
    "            ids.append(song_id)\n",
    "        x+=1\n",
    "        offset_value+=7\n",
    "        call_playlists(offset_value)\n",
    "except IndexError:\n",
    "    print(f\"You've saved {len(artist_name)} songs in {playlist} Playlist\")"
   ]
  },
  {
   "cell_type": "code",
   "execution_count": 37,
   "metadata": {},
   "outputs": [],
   "source": [
    "df = pd.DataFrame({\"song_title\":song_title, \"artist_name\": artist_name, \"ids\": ids})"
   ]
  },
  {
   "cell_type": "code",
   "execution_count": 38,
   "metadata": {},
   "outputs": [],
   "source": [
    "output_data = \"decade_output/2010s.csv\""
   ]
  },
  {
   "cell_type": "code",
   "execution_count": 39,
   "metadata": {},
   "outputs": [],
   "source": [
    "df.to_csv(output_data)"
   ]
  },
  {
   "cell_type": "markdown",
   "metadata": {},
   "source": [
    "# US Top 50"
   ]
  },
  {
   "cell_type": "code",
   "execution_count": 40,
   "metadata": {},
   "outputs": [],
   "source": [
    "playlist=\"US Top 50\"\n",
    "playlist_id= \"nxuzwr3ncg3ks6f1iy1grrrvc:playlist:356RdloI1Y4ozLdUTh0FAU\"\n",
    "user= \"nxuzwr3ncg3ks6f1iy1grrrvc\"\n",
    "playlist_len=107\n",
    "offset_value=0\n",
    "artist_name=[]\n",
    "song_title=[]\n",
    "ids = []"
   ]
  },
  {
   "cell_type": "code",
   "execution_count": 41,
   "metadata": {},
   "outputs": [
    {
     "name": "stdout",
     "output_type": "stream",
     "text": [
      "You've saved 90 songs in US Top 50 Playlist\n"
     ]
    }
   ],
   "source": [
    "def call_playlists (offset_value):\n",
    "    playlists=spotify.user_playlist_tracks(user=user,playlist_id=playlist_id, offset=offset_value, limit=None)\n",
    "    return playlists\n",
    "\n",
    "playlist_len = playlist_len\n",
    "\n",
    "x=0\n",
    "    \n",
    "try:\n",
    "    while len(artist_name) <= playlist_len:\n",
    "        offset_value=0\n",
    "        playlists=call_playlists(offset_value)\n",
    "        artist=playlists[\"items\"][x]['track']['artists'][0]['name']\n",
    "        song=playlists[\"items\"][x]['track']['album']['name']\n",
    "        song_id=playlists[\"items\"][x][\"track\"][\"album\"][\"id\"]\n",
    "        if song_id not in ids:\n",
    "            artist_name.append(artist)\n",
    "            song_title.append(song)\n",
    "            ids.append(song_id)\n",
    "        x+=1\n",
    "        offset_value+=7\n",
    "        call_playlists(offset_value)\n",
    "except IndexError:\n",
    "    print(f\"You've saved {len(artist_name)} songs in {playlist} Playlist\")"
   ]
  },
  {
   "cell_type": "code",
   "execution_count": 42,
   "metadata": {},
   "outputs": [],
   "source": [
    "df = pd.DataFrame({\"song_title\":song_title, \"artist_name\": artist_name, \"ids\": ids})"
   ]
  },
  {
   "cell_type": "code",
   "execution_count": 43,
   "metadata": {},
   "outputs": [],
   "source": [
    "output_data = \"decade_output/US_Top_50.csv\""
   ]
  },
  {
   "cell_type": "code",
   "execution_count": 44,
   "metadata": {},
   "outputs": [],
   "source": [
    "df.to_csv(output_data)"
   ]
  },
  {
   "cell_type": "markdown",
   "metadata": {},
   "source": [
    "# Soak Up the Sun"
   ]
  },
  {
   "cell_type": "code",
   "execution_count": null,
   "metadata": {},
   "outputs": [],
   "source": [
    "playlist=\"Soak Up the Sun\"\n",
    "playlist_id= \"37i9dQZF1DX6ALfRKlHn1t\"\n",
    "user= \"spotify\"\n",
    "playlist_len=120\n",
    "offset_value=0\n",
    "artist_name=[]\n",
    "song_title=[]\n",
    "ids = []"
   ]
  },
  {
   "cell_type": "code",
   "execution_count": null,
   "metadata": {},
   "outputs": [],
   "source": [
    "def call_playlists (offset_value):\n",
    "    playlists=spotify.user_playlist_tracks(user=user,playlist_id=playlist_id, offset=offset_value, limit=None)\n",
    "    return playlists\n",
    "\n",
    "playlist_len = playlist_len\n",
    "\n",
    "x=0\n",
    "    \n",
    "try:\n",
    "    while len(artist_name) <= playlist_len:\n",
    "        offset_value=0\n",
    "        playlists=call_playlists(offset_value)\n",
    "        artist=playlists[\"items\"][x]['track']['artists'][0]['name']\n",
    "        song=playlists[\"items\"][x]['track']['album']['name']\n",
    "        song_id=playlists[\"items\"][x][\"track\"][\"album\"][\"id\"]\n",
    "        if song_id not in ids:\n",
    "            artist_name.append(artist)\n",
    "            song_title.append(song)\n",
    "            ids.append(song_id)\n",
    "        x+=1\n",
    "        offset_value+=7\n",
    "        call_playlists(offset_value)\n",
    "except IndexError:\n",
    "    print(f\"You've saved {len(artist_name)} songs in {playlist} Playlist\")"
   ]
  },
  {
   "cell_type": "code",
   "execution_count": null,
   "metadata": {},
   "outputs": [],
   "source": [
    "df = pd.DataFrame({\"song_title\":song_title, \"artist_name\": artist_name, \"ids\": ids})"
   ]
  },
  {
   "cell_type": "code",
   "execution_count": null,
   "metadata": {},
   "outputs": [],
   "source": [
    "output_data = \"decade_output/Soak_Up_the_Sun.csv\""
   ]
  },
  {
   "cell_type": "code",
   "execution_count": null,
   "metadata": {},
   "outputs": [],
   "source": [
    "df.to_csv(output_data)"
   ]
  },
  {
   "cell_type": "markdown",
   "metadata": {},
   "source": [
    "# You & Me"
   ]
  },
  {
   "cell_type": "code",
   "execution_count": null,
   "metadata": {},
   "outputs": [],
   "source": [
    "playlist=\"You & Me\"\n",
    "playlist_id= \"37i9dQZF1DX6mvEU1S6INL\"\n",
    "user= \"spotify\"\n",
    "playlist_len=101\n",
    "offset_value=0\n",
    "artist_name=[]\n",
    "song_title=[]\n",
    "ids = []"
   ]
  },
  {
   "cell_type": "code",
   "execution_count": null,
   "metadata": {},
   "outputs": [],
   "source": [
    "def call_playlists (offset_value):\n",
    "    playlists=spotify.user_playlist_tracks(user=user,playlist_id=playlist_id, offset=offset_value, limit=None)\n",
    "    return playlists\n",
    "\n",
    "playlist_len = playlist_len\n",
    "\n",
    "x=0\n",
    "    \n",
    "try:\n",
    "    while len(artist_name) <= playlist_len:\n",
    "        offset_value=0\n",
    "        playlists=call_playlists(offset_value)\n",
    "        artist=playlists[\"items\"][x]['track']['artists'][0]['name']\n",
    "        song=playlists[\"items\"][x]['track']['album']['name']\n",
    "        song_id=playlists[\"items\"][x][\"track\"][\"album\"][\"id\"]\n",
    "        if song_id not in ids:\n",
    "            artist_name.append(artist)\n",
    "            song_title.append(song)\n",
    "            ids.append(song_id)\n",
    "        x+=1\n",
    "        offset_value+=7\n",
    "        call_playlists(offset_value)\n",
    "except IndexError:\n",
    "    print(f\"You've saved {len(artist_name)} songs in {playlist} Playlist\")"
   ]
  },
  {
   "cell_type": "code",
   "execution_count": null,
   "metadata": {},
   "outputs": [],
   "source": [
    "df = pd.DataFrame({\"song_title\":song_title, \"artist_name\": artist_name, \"ids\": ids})"
   ]
  },
  {
   "cell_type": "code",
   "execution_count": null,
   "metadata": {},
   "outputs": [],
   "source": [
    "output_data = \"decade_output/You&Me.csv\""
   ]
  },
  {
   "cell_type": "code",
   "execution_count": null,
   "metadata": {},
   "outputs": [],
   "source": [
    "df.to_csv(output_data)"
   ]
  },
  {
   "cell_type": "markdown",
   "metadata": {},
   "source": [
    "# License to Chill"
   ]
  },
  {
   "cell_type": "code",
   "execution_count": null,
   "metadata": {},
   "outputs": [],
   "source": [
    "playlist=\"License to Chill\"\n",
    "playlist_id= \"37i9dQZF1DXa9xHlDa5fc6\"\n",
    "user= \"spotify\"\n",
    "playlist_len=130\n",
    "offset_value=0\n",
    "artist_name=[]\n",
    "song_title=[]\n",
    "ids = []"
   ]
  },
  {
   "cell_type": "code",
   "execution_count": null,
   "metadata": {},
   "outputs": [],
   "source": [
    "def call_playlists (offset_value):\n",
    "    playlists=spotify.user_playlist_tracks(user=user,playlist_id=playlist_id, offset=offset_value, limit=None)\n",
    "    return playlists\n",
    "\n",
    "playlist_len = playlist_len\n",
    "\n",
    "x=0\n",
    "    \n",
    "try:\n",
    "    while len(artist_name) <= playlist_len:\n",
    "        offset_value=0\n",
    "        playlists=call_playlists(offset_value)\n",
    "        artist=playlists[\"items\"][x]['track']['artists'][0]['name']\n",
    "        song=playlists[\"items\"][x]['track']['album']['name']\n",
    "        song_id=playlists[\"items\"][x][\"track\"][\"album\"][\"id\"]\n",
    "        if song_id not in ids:\n",
    "            artist_name.append(artist)\n",
    "            song_title.append(song)\n",
    "            ids.append(song_id)\n",
    "        x+=1\n",
    "        offset_value+=7\n",
    "        call_playlists(offset_value)\n",
    "except IndexError:\n",
    "    print(f\"You've saved {len(artist_name)} songs in {playlist} Playlist\")"
   ]
  },
  {
   "cell_type": "code",
   "execution_count": null,
   "metadata": {},
   "outputs": [],
   "source": [
    "df = pd.DataFrame({\"song_title\":song_title, \"artist_name\": artist_name, \"ids\": ids})"
   ]
  },
  {
   "cell_type": "code",
   "execution_count": null,
   "metadata": {},
   "outputs": [],
   "source": [
    "output_data = \"decade_output/License_To_Chill.csv\""
   ]
  },
  {
   "cell_type": "code",
   "execution_count": null,
   "metadata": {},
   "outputs": [],
   "source": [
    "df.to_csv(output_data)"
   ]
  },
  {
   "cell_type": "code",
   "execution_count": null,
   "metadata": {},
   "outputs": [],
   "source": []
  }
 ],
 "metadata": {
  "kernelspec": {
   "display_name": "Python 3",
   "language": "python",
   "name": "python3"
  },
  "language_info": {
   "codemirror_mode": {
    "name": "ipython",
    "version": 3
   },
   "file_extension": ".py",
   "mimetype": "text/x-python",
   "name": "python",
   "nbconvert_exporter": "python",
   "pygments_lexer": "ipython3",
   "version": "3.7.1"
  }
 },
 "nbformat": 4,
 "nbformat_minor": 2
}
